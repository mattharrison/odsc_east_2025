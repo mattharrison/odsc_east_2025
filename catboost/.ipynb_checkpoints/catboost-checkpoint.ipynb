{
 "cells": [
  {
   "cell_type": "markdown",
   "metadata": {},
   "source": [
    "# End to End CatBoost\n",
    "\n",
    "©️2025 MetaSnake\n",
    "\n",
    "## https://github.com/mattharrison/odsc_east_2025\n",
    "\n",
    "`@__mharrison__`"
   ]
  },
  {
   "cell_type": "code",
   "execution_count": null,
   "metadata": {},
   "outputs": [],
   "source": []
  },
  {
   "cell_type": "code",
   "execution_count": null,
   "metadata": {},
   "outputs": [],
   "source": []
  },
  {
   "cell_type": "code",
   "execution_count": null,
   "metadata": {},
   "outputs": [],
   "source": []
  },
  {
   "cell_type": "code",
   "execution_count": null,
   "metadata": {},
   "outputs": [],
   "source": []
  },
  {
   "cell_type": "code",
   "execution_count": null,
   "metadata": {},
   "outputs": [],
   "source": []
  },
  {
   "cell_type": "code",
   "execution_count": null,
   "metadata": {},
   "outputs": [],
   "source": []
  },
  {
   "cell_type": "code",
   "execution_count": null,
   "metadata": {},
   "outputs": [],
   "source": []
  },
  {
   "cell_type": "code",
   "execution_count": null,
   "metadata": {},
   "outputs": [],
   "source": [
    "!pip install -U catboost"
   ]
  },
  {
   "cell_type": "code",
   "execution_count": null,
   "metadata": {},
   "outputs": [],
   "source": [
    "import catboost\n",
    "catboost.__version__"
   ]
  },
  {
   "cell_type": "code",
   "execution_count": null,
   "metadata": {},
   "outputs": [],
   "source": []
  },
  {
   "cell_type": "code",
   "execution_count": null,
   "metadata": {},
   "outputs": [],
   "source": []
  },
  {
   "cell_type": "markdown",
   "metadata": {},
   "source": [
    "## Datasets\n",
    "\n",
    "I'll be demoing with Kaggle 2018 survey data"
   ]
  },
  {
   "cell_type": "code",
   "execution_count": null,
   "metadata": {},
   "outputs": [],
   "source": [
    "import pandas as pd\n",
    "import os\n",
    "import urllib.request\n",
    "import zipfile\n",
    "\n",
    "local = 'kaggle-survey-2018.zip'\n",
    "if not os.path.exists(local):\n",
    "    url = 'https://github.com/mattharrison/datasets/raw/master/data/kaggle-survey-2018.zip'\n",
    "    fin = urllib.request.urlopen(url)\n",
    "    data = fin.read()\n",
    "    with open(local, mode='wb') as fout:\n",
    "        fout.write(data)\n",
    "with zipfile.ZipFile(local) as z:\n",
    "    print(z.namelist())\n",
    "    kag = pd.read_csv(z.open('multipleChoiceResponses.csv'))\n",
    "    kag_questions = kag.iloc[0]\n",
    "    raw = kag.iloc[1:]"
   ]
  },
  {
   "cell_type": "code",
   "execution_count": null,
   "metadata": {
    "scrolled": true
   },
   "outputs": [],
   "source": [
    "raw"
   ]
  },
  {
   "cell_type": "code",
   "execution_count": null,
   "metadata": {},
   "outputs": [],
   "source": [
    "raw.Q4.value_counts().index"
   ]
  },
  {
   "cell_type": "code",
   "execution_count": null,
   "metadata": {},
   "outputs": [],
   "source": [
    "raw.Q6.value_counts()"
   ]
  },
  {
   "cell_type": "code",
   "execution_count": null,
   "metadata": {},
   "outputs": [],
   "source": [
    "import pandas as pd\n",
    "import numpy as np\n",
    "from sklearn.base import BaseEstimator, TransformerMixin\n",
    "from sklearn.pipeline import Pipeline\n",
    "from sklearn.preprocessing import OneHotEncoder, FunctionTransformer\n",
    "from sklearn.impute import SimpleImputer\n",
    "from sklearn.compose import ColumnTransformer\n",
    "\n",
    "from sklearn import set_config\n",
    "\n",
    "set_config(transform_output='pandas')\n",
    "\n",
    "class TopNEncoder(BaseEstimator, TransformerMixin):\n",
    "    def __init__(self, n=5, default='other'):\n",
    "        self.n = n\n",
    "        self.default = default\n",
    "        self.top_n_categories = None\n",
    "\n",
    "    def fit(self, X, y=None):\n",
    "        if isinstance(X, pd.DataFrame):\n",
    "            X = X.iloc[:, 0]\n",
    "        counts = X.value_counts()\n",
    "        self.top_n_categories = set(counts.index[:self.n])\n",
    "        return self\n",
    "\n",
    "    def transform(self, X):\n",
    "        return X.where(X.isin(self.top_n_categories), self.default)\n",
    "\n",
    "class CustomOneHotEncoder(BaseEstimator, TransformerMixin):\n",
    "    def __init__(self, drop='first', prefix=None):\n",
    "        self.drop = drop\n",
    "        self.prefix = prefix\n",
    "        self.encoder = None\n",
    "\n",
    "    def fit(self, X: pd.DataFrame, y=None):\n",
    "        self.encoder = OneHotEncoder(drop=self.drop, sparse_output=False)\n",
    "        self.encoder.fit(X)\n",
    "        return self\n",
    "\n",
    "    def transform(self, X):\n",
    "        encoded = self.encoder.transform(X)#.values.reshape(-1, 1))\n",
    "        return encoded\n",
    "\n",
    "class AgeExtractor(BaseEstimator, TransformerMixin):\n",
    "    def fit(self, X, y=None):\n",
    "        return self\n",
    "\n",
    "    def transform(self, X):\n",
    "        return (X\n",
    "                .assign(**{col: X[col].str.slice(0, 2).astype(int)\n",
    "                         for col in X.columns})\n",
    "        )\n",
    "\n",
    "class EducationEncoder(BaseEstimator, TransformerMixin):\n",
    "    def __init__(self):\n",
    "        self.mapping = {\n",
    "            'I prefer not to answer': None,\n",
    "            'No formal education past high school': 12,\n",
    "            'Some college/university study without earning a bachelor’s degree': 13,\n",
    "            'Bachelor’s degree': 16,\n",
    "            'Master’s degree': 18,\n",
    "            'Professional degree': 19,     \n",
    "            'Doctoral degree':20,\n",
    "        }\n",
    "\n",
    "    def fit(self, X, y=None):\n",
    "        return self\n",
    "\n",
    "    def transform(self, X):\n",
    "        if isinstance(X, pd.DataFrame):\n",
    "            X = X.iloc[:, 0]\n",
    "        return X.map(self.mapping).to_frame()\n",
    "\n",
    "class ExperienceExtractor(BaseEstimator, TransformerMixin):\n",
    "    def fit(self, X, y=None):\n",
    "        return self\n",
    "\n",
    "    def transform(self, X):\n",
    "        return (pd.DataFrame(X)\n",
    "            .assign(\n",
    "                experience=lambda df: (\n",
    "                    df.iloc[:, 0]\n",
    "                    .str.replace('+', '', regex=False)\n",
    "                    .str.split('-', expand=True)\n",
    "                    .iloc[:, 0]\n",
    "                    .astype(float)\n",
    "                )\n",
    "            )\n",
    "            .loc[:, ['experience']]\n",
    "        )\n",
    "\n",
    "\n",
    "class CompensationExtractor(BaseEstimator, TransformerMixin):\n",
    "    def fit(self, X, y=None):\n",
    "        return self\n",
    "\n",
    "    def transform(self, X):\n",
    "        return (pd.DataFrame(X)\n",
    "            .assign(\n",
    "                compensation=lambda df: (\n",
    "                    df.iloc[:, 0]\n",
    "                    .str.replace('+', '', regex=False)\n",
    "                    .str.replace(',', '', regex=False)\n",
    "                    .str.replace('500000', '500', regex=False)\n",
    "                    .str.replace('I do not wish to disclose my approximate yearly compensation', '0', regex=False)\n",
    "                    .str.split('-', expand=True)\n",
    "                    .iloc[:, 0]\n",
    "                    .fillna(0)\n",
    "                    .astype(int)\n",
    "                    .mul(1000)\n",
    "                )\n",
    "            )\n",
    "            .loc[:, ['compensation']]\n",
    "        )\n",
    "\n",
    "class LanguageEncoder(BaseEstimator, TransformerMixin):\n",
    "    def __init__(self, language):\n",
    "        self.language = language\n",
    "\n",
    "    def fit(self, X, y=None):\n",
    "        return self\n",
    "\n",
    "    def transform(self, X):\n",
    "        if isinstance(X, pd.DataFrame):\n",
    "            X = X.iloc[:, 0]\n",
    "        return X.fillna(0).map({self.language: 1}).rename(self.language).to_frame()\n",
    "\n",
    "def create_pipeline():\n",
    "    gender_encoder = CustomOneHotEncoder(drop='first', prefix='gender')\n",
    "    country_encoder = CustomOneHotEncoder(drop='first', prefix='country')\n",
    "    major_encoder = Pipeline([\n",
    "        ('topn', TopNEncoder(n=3)),\n",
    "        ('replace', FunctionTransformer(lambda X: X.iloc[:, 0].map({\n",
    "            'Computer science (software engineering, etc.)': 'cs',\n",
    "            'Engineering (non-computer focused)': 'eng',\n",
    "            'Mathematics or statistics': 'stat'\n",
    "        }).to_frame())),\n",
    "        ('onehot', CustomOneHotEncoder(drop='first', prefix='major'))\n",
    "    ])\n",
    "\n",
    "    preprocessor = ColumnTransformer([\n",
    "        ('gender', gender_encoder, ['Q1']),\n",
    "        ('age', AgeExtractor(), ['Q2']),\n",
    "        ('country', country_encoder, ['Q3']),\n",
    "        ('education', EducationEncoder(), ['Q4']),\n",
    "        ('major', major_encoder, ['Q5']),\n",
    "        ('years_exp', ExperienceExtractor(), ['Q8']),\n",
    "        ('compensation', CompensationExtractor(), ['Q9']),\n",
    "        ('python', LanguageEncoder('Python'), ['Q16_Part_1']),\n",
    "        ('r', LanguageEncoder('R'), ['Q16_Part_2']),\n",
    "        ('sql', LanguageEncoder('SQL'), ['Q16_Part_3'])\n",
    "    ])\n",
    "\n",
    "    pipeline = Pipeline([\n",
    "        ('preprocessor', preprocessor),\n",
    "        ('imputer', SimpleImputer(strategy='mean'))\n",
    "    ])\n",
    "\n",
    "    return pipeline\n",
    "\n",
    "# Usage\n",
    "pipeline = create_pipeline()\n",
    "kag_X_transformed = pipeline.fit_transform(\n",
    "    raw[raw.Q3.isin([\"United States of America\", \"China\", \"India\"])]\n",
    ")\n",
    "kag_y = (raw\n",
    "         .loc[kag_X_transformed.index]\n",
    "            .query('Q6 == \"Data Scientist\" or Q6 == \"Software Engineer\"')\n",
    "            .loc[:, 'Q6']\n",
    ")\n",
    "kag_X = kag_X_transformed.loc[kag_y.index]\n",
    "\n",
    "# Split the data\n",
    "from sklearn.model_selection import train_test_split\n",
    "kag_X_train, kag_X_test, kag_y_train, kag_y_test = train_test_split(\n",
    "    kag_X, kag_y, stratify=kag_y, random_state=42)"
   ]
  },
  {
   "cell_type": "code",
   "execution_count": null,
   "metadata": {},
   "outputs": [],
   "source": [
    "kag_X"
   ]
  },
  {
   "cell_type": "code",
   "execution_count": null,
   "metadata": {},
   "outputs": [],
   "source": [
    "kag_y"
   ]
  },
  {
   "cell_type": "code",
   "execution_count": null,
   "metadata": {},
   "outputs": [],
   "source": [
    "# check for missing values\n",
    "kag_y.isna().pipe(lambda s: s[s > 0])"
   ]
  },
  {
   "cell_type": "code",
   "execution_count": null,
   "metadata": {},
   "outputs": [],
   "source": []
  },
  {
   "cell_type": "code",
   "execution_count": null,
   "metadata": {},
   "outputs": [],
   "source": []
  },
  {
   "cell_type": "code",
   "execution_count": null,
   "metadata": {},
   "outputs": [],
   "source": []
  },
  {
   "cell_type": "code",
   "execution_count": null,
   "metadata": {},
   "outputs": [],
   "source": []
  },
  {
   "cell_type": "markdown",
   "metadata": {},
   "source": [
    "## Use PCA to Visualize"
   ]
  },
  {
   "cell_type": "code",
   "execution_count": null,
   "metadata": {},
   "outputs": [],
   "source": [
    "from sklearn.preprocessing import StandardScaler\n",
    "from sklearn.decomposition import PCA\n",
    "\n",
    "pca_pipeline = Pipeline([('std', StandardScaler()), ('pca', PCA(n_components=3))])\n",
    "X_pca = pca_pipeline.fit_transform(kag_X)\n",
    "pca = pca_pipeline.named_steps['pca']"
   ]
  },
  {
   "cell_type": "code",
   "execution_count": null,
   "metadata": {},
   "outputs": [],
   "source": [
    "X_pca"
   ]
  },
  {
   "cell_type": "code",
   "execution_count": null,
   "metadata": {},
   "outputs": [],
   "source": [
    "# components\n",
    "\n",
    "(pd.DataFrame(pca.components_, columns=kag_X.columns,\n",
    "              index=[f'pca{i}' for i in range(pca.n_components_ )])\n",
    ".loc[:, lambda df: (df.abs() > .1).any(axis='index')]\n",
    ".plot.bar()\n",
    ".legend(bbox_to_anchor=(1,1))              \n",
    ")"
   ]
  },
  {
   "cell_type": "code",
   "execution_count": null,
   "metadata": {},
   "outputs": [],
   "source": [
    "import plotly.express as px\n",
    "fig = px.scatter_3d(data:=X_pca.assign(**kag_X),\n",
    "                x='pca0', y='pca1', z='pca2',\n",
    "                #color='age__Q2',\n",
    "                #color='major__experience',\n",
    "                #color='education__Q4',\n",
    "                color='compensation__compensation',\n",
    "                  hover_data=data.columns,\n",
    "                color_continuous_scale='viridis')\n",
    "fig.update_layout(\n",
    "    width=800,\n",
    "    height=600,\n",
    "    title='3D PCA Scatter Plot'\n",
    ")      \n",
    "fig.update_traces(marker=dict(size=3))\n",
    "\n",
    "fig.show()"
   ]
  },
  {
   "cell_type": "code",
   "execution_count": null,
   "metadata": {},
   "outputs": [],
   "source": [
    "# color by job title\n",
    "import plotly.express as px\n",
    "fig = px.scatter_3d(data:=X_pca.assign(**kag_X),\n",
    "                x='pca0', y='pca1', z='pca2',\n",
    "                color=kag_y, hover_data=data.columns,\n",
    "                color_continuous_scale='viridis')\n",
    "fig.update_layout(\n",
    "    width=800,\n",
    "    height=600,\n",
    "    title='3D PCA Scatter Plot'\n",
    ")      \n",
    "fig.update_traces(marker=dict(size=3))\n",
    "\n",
    "fig.show()"
   ]
  },
  {
   "cell_type": "code",
   "execution_count": null,
   "metadata": {},
   "outputs": [],
   "source": []
  },
  {
   "cell_type": "code",
   "execution_count": null,
   "metadata": {},
   "outputs": [],
   "source": []
  },
  {
   "cell_type": "code",
   "execution_count": null,
   "metadata": {},
   "outputs": [],
   "source": []
  },
  {
   "cell_type": "code",
   "execution_count": null,
   "metadata": {},
   "outputs": [],
   "source": []
  },
  {
   "cell_type": "markdown",
   "metadata": {},
   "source": [
    "## Stumps, Trees, and Forests"
   ]
  },
  {
   "cell_type": "code",
   "execution_count": null,
   "metadata": {},
   "outputs": [],
   "source": [
    "X = (raw.loc[\n",
    "    raw.Q3.isin([\"United States of America\", \"China\", \"India\"])\n",
    "    & raw.Q6.isin([\"Data Scientist\", \"Software Engineer\"]),\n",
    "    ['Q1', 'Q2', 'Q3', 'Q4', 'Q5', 'Q8', 'Q9', 'Q16_Part_1', 'Q16_Part_2', 'Q16_Part_3']]\n",
    "    .rename(columns={'Q1': 'gender', 'Q2': 'age', 'Q3': 'country', 'Q4': 'education', \n",
    "                     'Q5': 'major', 'Q8': 'years_exp', 'Q9': 'compensation', \n",
    "                     'Q16_Part_1': 'python', 'Q16_Part_2': 'r', 'Q16_Part_3': 'sql'})\n",
    "    .fillna('NA')  # categories can't have missing values\n",
    "    # not strictly required to convert to category, but it will save memory (generally)\n",
    "    #.pipe(lambda df: df.assign(**df.select_dtypes('object').astype('category')))    \n",
    ")\n",
    "y = (raw\n",
    "        .loc[X.index]\n",
    "        .loc[:, 'Q6']\n",
    "    )"
   ]
  },
  {
   "cell_type": "code",
   "execution_count": null,
   "metadata": {
    "scrolled": true
   },
   "outputs": [],
   "source": [
    "X"
   ]
  },
  {
   "cell_type": "code",
   "execution_count": null,
   "metadata": {},
   "outputs": [],
   "source": [
    "y"
   ]
  },
  {
   "cell_type": "code",
   "execution_count": null,
   "metadata": {},
   "outputs": [],
   "source": [
    "y.value_counts()"
   ]
  },
  {
   "cell_type": "code",
   "execution_count": null,
   "metadata": {},
   "outputs": [],
   "source": [
    "X_train, X_test, y_train, y_test = train_test_split(X, y, stratify=y, random_state=42)"
   ]
  },
  {
   "cell_type": "code",
   "execution_count": null,
   "metadata": {},
   "outputs": [],
   "source": [
    "X_train.columns"
   ]
  },
  {
   "cell_type": "code",
   "execution_count": null,
   "metadata": {},
   "outputs": [],
   "source": [
    "stump = catboost.CatBoostClassifier(iterations=1, depth=1, \n",
    "                                    cat_features=list(X_train.columns))\n",
    "stump.fit(X_train, y_train)\n"
   ]
  },
  {
   "cell_type": "code",
   "execution_count": null,
   "metadata": {},
   "outputs": [],
   "source": [
    "stump.score(X_test, y_test)"
   ]
  },
  {
   "cell_type": "code",
   "execution_count": null,
   "metadata": {},
   "outputs": [],
   "source": [
    "# on an underfit model, we generally see similar (bad) performance on the training set\n",
    "stump.score(X_train, y_train)"
   ]
  },
  {
   "cell_type": "code",
   "execution_count": null,
   "metadata": {},
   "outputs": [],
   "source": [
    "stump.classes_"
   ]
  },
  {
   "cell_type": "code",
   "execution_count": null,
   "metadata": {},
   "outputs": [],
   "source": [
    "# This fails without a CatBoost \"Pool\"\n",
    "stump.plot_tree(tree_idx=0)"
   ]
  },
  {
   "cell_type": "code",
   "execution_count": null,
   "metadata": {},
   "outputs": [],
   "source": [
    "# On codespaces run:\n",
    "# sudo apt-get update\n",
    "# sudo apt-get install graphviz\n",
    "pool = catboost.Pool(X_train, y_train, cat_features=list(X_train.columns))\n",
    "res = stump.plot_tree(tree_idx=0, pool=pool)\n",
    "res"
   ]
  },
  {
   "cell_type": "markdown",
   "metadata": {},
   "source": []
  },
  {
   "cell_type": "code",
   "execution_count": null,
   "metadata": {},
   "outputs": [],
   "source": []
  },
  {
   "cell_type": "code",
   "execution_count": null,
   "metadata": {},
   "outputs": [],
   "source": []
  },
  {
   "cell_type": "markdown",
   "metadata": {},
   "source": [
    "## Hyperparameters"
   ]
  },
  {
   "cell_type": "code",
   "execution_count": null,
   "metadata": {},
   "outputs": [],
   "source": [
    "# sort the keys so that the order is consistent\n",
    "# .get_all_params() returns all of the parameters\n",
    "unsorted_dict = stump.get_all_params()\n",
    "sorted_dict = dict(sorted(unsorted_dict.items()))\n",
    "sorted_dict "
   ]
  },
  {
   "cell_type": "code",
   "execution_count": null,
   "metadata": {},
   "outputs": [],
   "source": []
  },
  {
   "cell_type": "markdown",
   "metadata": {},
   "source": [
    "## Underfit\n",
    "\n",
    "A stump is too simple. It has too much *bias*.\n",
    "\n",
    "Solutions:\n",
    "\n",
    "- Add better features\n",
    "- Use a more complex model\n",
    "\n",
    "If we let the tree grow, it will do both of these things."
   ]
  },
  {
   "cell_type": "code",
   "execution_count": null,
   "metadata": {},
   "outputs": [],
   "source": []
  },
  {
   "cell_type": "markdown",
   "metadata": {},
   "source": [
    "## Overfit\n",
    "\n",
    "A model that is too complex has too much *variance*.\n",
    "\n",
    "Solutions:\n",
    "\n",
    "- Simplify the model (or constrain/regularize it)\n",
    "- Use more data\n",
    "\n",
    "IF a tree is too complex, we can prune it so that the leaf nodes are not too specific."
   ]
  },
  {
   "cell_type": "code",
   "execution_count": null,
   "metadata": {},
   "outputs": [],
   "source": [
    "var_settings = catboost_config = {\n",
    "    'auto_class_weights': 'None',\n",
    "    #'bayesian_matrix_reg': 0,  # Reduced from 0.10000000149011612\n",
    "    'best_model_min_trees': 1,\n",
    "    'boost_from_average': False,\n",
    "    'boosting_type': 'Plain',\n",
    "    #'bootstrap_type': 'No',  # Changed from 'MVS'\n",
    "    'border_count': 1024, #254,\n",
    "    #'class_names': ['Data Scientist', 'Software Engineer'],\n",
    "    'classes_count': 0,\n",
    "    'combinations_ctr': ['Borders:CtrBorderCount=15:CtrBorderType=Uniform:TargetBorderCount=1:TargetBorderType=MinEntropy:Prior=0/1:Prior=0.5/1:Prior=1/1',\n",
    "     'Counter:CtrBorderCount=15:CtrBorderType=Uniform:Prior=0/1'],\n",
    "    'counter_calc_method': 'SkipTest',\n",
    "    'ctr_leaf_count_limit': 18446744073709551615,\n",
    "    'ctr_target_border_count': 1,\n",
    "    #'depth': None,  # Changed from 1 to None (unlimited depth)\n",
    "    'eval_fraction': 0,\n",
    "    'eval_metric': 'Logloss',\n",
    "    'feature_border_type': 'GreedyLogSum',\n",
    "    'fold_permutation_block': 0,\n",
    "    #'force_unit_auto_pair_weights': False,\n",
    "    'grow_policy': 'SymmetricTree',\n",
    "    'has_time': False,\n",
    "    #'iterations': 1000,  # Increased from 1\n",
    "    'l2_leaf_reg': 0,  # Reduced from 3\n",
    "    'leaf_estimation_backtracking': 'No',  # Changed from 'AnyImprovement'\n",
    "    'leaf_estimation_iterations': 10,  # Increased from 1\n",
    "    'leaf_estimation_method': 'Newton',\n",
    "    'learning_rate': 1,  # Increased from 0.5\n",
    "    'loss_function': 'Logloss',\n",
    "    'max_ctr_complexity': 8,  # Increased from 1\n",
    "    'max_leaves': None, #31,  # Increased from 2\n",
    "    'min_data_in_leaf': 1,\n",
    "    'model_shrink_mode': 'Constant',\n",
    "    'model_shrink_rate': 0,\n",
    "    'model_size_reg': 0,  # Reduced from 0.5\n",
    "    'nan_mode': 'Min',\n",
    "    'one_hot_max_size': 2,\n",
    "    'penalties_coefficient': 1,\n",
    "    #'permutation_count': 1,  # Reduced from 4\n",
    "    #'pool_metainfo_options': {'tags': {}},\n",
    "    'posterior_sampling': False,\n",
    "    'random_score_type': 'NormalWithModelSizeDecrease',\n",
    "    'random_seed': 0,\n",
    "    'random_strength': 0,  # Reduced from 1\n",
    "    'rsm': 1,\n",
    "    'sampling_frequency': 'PerTree',\n",
    "    'score_function': 'Cosine',\n",
    "    'simple_ctr': ['Borders:CtrBorderCount=15:CtrBorderType=Uniform:TargetBorderCount=1:TargetBorderType=MinEntropy:Prior=0/1:Prior=0.5/1:Prior=1/1',\n",
    "     'Counter:CtrBorderCount=15:CtrBorderType=Uniform:Prior=0/1'],\n",
    "    'sparse_features_conflict_fraction': 0,\n",
    "    'store_all_simple_ctr': False,\n",
    "    'subsample': 1,  # Increased from 0.800000011920929\n",
    "    'task_type': 'CPU',\n",
    "    'use_best_model': False\n",
    "}\n"
   ]
  },
  {
   "cell_type": "code",
   "execution_count": null,
   "metadata": {},
   "outputs": [],
   "source": [
    "# fails because CatBoost has a depth limit of 16\n",
    "hi_variance = catboost.CatBoostClassifier(iterations=1, depth=100, **var_settings,\n",
    "                                            cat_features=list(X_train.columns))\n",
    "hi_variance.fit(X_train, y_train)"
   ]
  },
  {
   "cell_type": "code",
   "execution_count": null,
   "metadata": {},
   "outputs": [],
   "source": [
    "# plotting the tree fails if the depth > 13 (on my mac)\n",
    "hi_variance = catboost.CatBoostClassifier(iterations=1, depth=13, **var_settings,\n",
    "                        cat_features=list(X_train.columns))\n",
    "hi_variance.fit(X_train, y_train)\n"
   ]
  },
  {
   "cell_type": "code",
   "execution_count": null,
   "metadata": {},
   "outputs": [],
   "source": [
    "hi_variance.score(X_test, y_test)"
   ]
  },
  {
   "cell_type": "code",
   "execution_count": null,
   "metadata": {},
   "outputs": [],
   "source": [
    "hi_variance.score(X_train, y_train)"
   ]
  },
  {
   "cell_type": "code",
   "execution_count": null,
   "metadata": {},
   "outputs": [],
   "source": [
    "print(f'Res={hi_variance._object._is_oblivious()}')"
   ]
  },
  {
   "cell_type": "code",
   "execution_count": null,
   "metadata": {},
   "outputs": [],
   "source": [
    "# note that the tree is \"oblivious\". This means that at every level of the tree,\n",
    "# the feature that is split on is the same.\n",
    "# - These work better with categorical data\n",
    "# - They are also faster to train\n",
    "# - Easier to regularize\n",
    "hi_variance.plot_tree(tree_idx=0, pool=pool)"
   ]
  },
  {
   "cell_type": "code",
   "execution_count": null,
   "metadata": {},
   "outputs": [],
   "source": []
  },
  {
   "cell_type": "code",
   "execution_count": null,
   "metadata": {},
   "outputs": [],
   "source": []
  },
  {
   "cell_type": "markdown",
   "metadata": {},
   "source": [
    "## Goldilocks\n",
    "\n",
    "We want a model that is just right."
   ]
  },
  {
   "cell_type": "code",
   "execution_count": null,
   "metadata": {},
   "outputs": [],
   "source": [
    "train_scores = []\n",
    "test_scores = []\n",
    "for i in range(1, 16):\n",
    "    goldilocks = catboost.CatBoostClassifier(iterations=1, depth=i, **var_settings,\n",
    "                                            cat_features=list(X_train.columns))\n",
    "    goldilocks.fit(X_train, y_train)\n",
    "    train_scores.append(goldilocks.score(X_train, y_train))\n",
    "    test_scores.append(goldilocks.score(X_test, y_test))\n",
    "\n",
    "import matplotlib.pyplot as plt\n",
    "plt.plot(range(1, 16), train_scores, label='train')\n",
    "plt.plot(range(1, 16), test_scores, label='test')\n",
    "plt.xlabel('depth')\n",
    "plt.ylabel('accuracy')\n",
    "plt.legend()"
   ]
  },
  {
   "cell_type": "code",
   "execution_count": null,
   "metadata": {},
   "outputs": [],
   "source": [
    "gold5 = catboost.CatBoostClassifier(iterations=1, depth=5, **var_settings,\n",
    "                                    cat_features=list(X_train.columns))\n",
    "gold5.fit(X_train, y_train)\n",
    "gold5.score(X_test, y_test)"
   ]
  },
  {
   "cell_type": "code",
   "execution_count": null,
   "metadata": {},
   "outputs": [],
   "source": [
    "gold5.score(X_train, y_train)"
   ]
  },
  {
   "cell_type": "code",
   "execution_count": null,
   "metadata": {},
   "outputs": [],
   "source": []
  },
  {
   "cell_type": "markdown",
   "metadata": {},
   "source": [
    "## CatBoost\n",
    "\n",
    "CatBoost uses *boosting* to train a series of symmetric (oblivious) decision trees, where each tree tries to correct the mistakes made by the previous one. For classification tasks, this process refines the prediction into a probability.\n",
    "\n",
    "Imagine it like golfing: after each shot (tree), you adjust your next move to get closer to the hole (correct prediction). In contrast, a decision tree is like hitting one ball and stopping. A random forest would be like taking multiple tee shots and averaging them to find the best one.\n",
    "\n",
    "- *Automatic Handling of Categorical Features*: CatBoost natively supports categorical features, encoding them in a highly efficient way without the need for preprocessing.\n",
    "- *Missing Value Support*: CatBoost handles missing data for numeric data automatically. (It does not support missing categorical data.)\n",
    "- *Overfitting Detection*: To prevent overfitting, CatBoost can stop training early when it detects that the model is no longer improving.\n",
    "- *Embedding Features*: You can specify that a group of columns should be treated as an embedding feature, which can improve the model's performance.\n"
   ]
  },
  {
   "cell_type": "code",
   "execution_count": null,
   "metadata": {},
   "outputs": [],
   "source": [
    "# This is the out of the box model. Note that it performs much better than \n",
    "# goldilocks\n",
    "cat1 = catboost.CatBoostClassifier(cat_features=list(X_train.columns), verbose=False)\n",
    "cat1.fit(X_train, y_train)\n",
    "cat1.score(X_test, y_test)"
   ]
  },
  {
   "cell_type": "code",
   "execution_count": null,
   "metadata": {},
   "outputs": [],
   "source": [
    "cat1.score(X_train, y_train)"
   ]
  },
  {
   "cell_type": "code",
   "execution_count": null,
   "metadata": {},
   "outputs": [],
   "source": [
    "# plot tree 1\n",
    "cat1.plot_tree(tree_idx=0, pool=pool)\n"
   ]
  },
  {
   "cell_type": "code",
   "execution_count": null,
   "metadata": {},
   "outputs": [],
   "source": [
    "# plot tree 2\n",
    "cat1.plot_tree(tree_idx=1, pool=pool)\n"
   ]
  },
  {
   "cell_type": "code",
   "execution_count": null,
   "metadata": {},
   "outputs": [],
   "source": [
    "X_test.iloc[0]"
   ]
  },
  {
   "cell_type": "code",
   "execution_count": null,
   "metadata": {},
   "outputs": [],
   "source": [
    "print([x for x in dir(cat1) if x.endswith('_')])"
   ]
  },
  {
   "cell_type": "code",
   "execution_count": null,
   "metadata": {},
   "outputs": [],
   "source": []
  },
  {
   "cell_type": "code",
   "execution_count": null,
   "metadata": {},
   "outputs": [],
   "source": []
  },
  {
   "cell_type": "code",
   "execution_count": null,
   "metadata": {},
   "outputs": [],
   "source": []
  },
  {
   "cell_type": "markdown",
   "metadata": {},
   "source": [
    "## Tree Hyperparameters\n",
    "\n",
    "## **Model Architecture and Tree Structure**\n",
    "\n",
    "- **`boosting_type='Plain'`**: Type of boosting algorithm. `'Plain'` means no boosting over time or residuals.\n",
    "  \n",
    "- **`grow_policy='SymmetricTree'`**: Strategy for growing trees. Symmetric trees split all branches at a given depth on the same feature, ensuring a balanced structure.\n",
    "\n",
    "- **`depth=None`**: Depth of the trees. Setting `None` means unlimited depth, allowing trees to grow without restrictions. *Changed from 1 to None*.\n",
    "\n",
    "- **`max_leaves=None`**: The maximum number of leaves in a tree. *Increased from 2 to None* (no limit).\n",
    "\n",
    "---\n",
    "\n",
    "## **Feature Sampling and Processing**\n",
    "\n",
    "- **`rsm=1`**: Random subspace method. Controls the fraction of features considered for splits. Set to 1, meaning all features are used for splitting.\n",
    "\n",
    "- **`border_count=1024`**: Number of splits for numeric features. A high value (1024) allows more precise splits. *Increased from 254*.\n",
    "\n",
    "- **`max_ctr_complexity=8`**: Maximum complexity of combinatorial feature transformations for categorical features. *Increased from 1*.\n",
    "\n",
    "- **`feature_border_type='GreedyLogSum'`**: Strategy for selecting borders (thresholds) when binning numeric features. `'GreedyLogSum'` uses a greedy logarithmic sum approach.\n",
    "\n",
    "- **`one_hot_max_size=2`**: Maximum number of unique categorical values for which one-hot encoding is used. For categories larger than this, other methods are applied.\n",
    "\n",
    "---\n",
    "\n",
    "## **Categorical Feature Handling**\n",
    "\n",
    "- **`combinations_ctr=['Borders:CtrBorderCount=15:CtrBorderType=Uniform:TargetBorderCount=1:TargetBorderType=MinEntropy:Prior=0/1:Prior=0.5/1:Prior=1/1', 'Counter:CtrBorderCount=15:CtrBorderType=Uniform:Prior=0/1']`**: Control how categorical features are processed using combinatorial counters and borders.\n",
    "  \n",
    "- **`ctr_leaf_count_limit=18446744073709551615`**: Limits the maximum number of leaves used for categorical feature transformation. The large value effectively disables this limit.\n",
    "\n",
    "- **`ctr_target_border_count=1`**: Sets the number of target borders used in categorical target statistics. Helps to limit the complexity of categorical features.\n",
    "\n",
    "---\n",
    "\n",
    "## **Regularization and Overfitting Prevention**\n",
    "\n",
    "- **`l2_leaf_reg=0`**: L2 regularization coefficient applied to leaf values. A lower value like 0 reduces regularization, allowing more variance. *Reduced from 3*.\n",
    "\n",
    "- **`random_strength=0`**: Strength of random noise added to splits' scores. Zero means no randomization, making the model more deterministic. *Reduced from 1*.\n",
    "\n",
    "- **`model_shrink_rate=0`**: Shrinkage rate for model weights during training. Zero means no shrinkage. *Reduced from 0.5*.\n",
    "\n",
    "- **`model_size_reg=0`**: Regularization coefficient for model size. A lower value like 0 disables this regularization. *Reduced from 0.5*.\n",
    "\n",
    "---\n",
    "\n",
    "## **Tree Estimation and Leaf Calculations**\n",
    "\n",
    "- **`leaf_estimation_iterations=10`**: Number of gradient steps used to estimate the leaf values. *Increased from 1 to 10*.\n",
    "\n",
    "- **`leaf_estimation_method='Newton'`**: Method for leaf value estimation. Uses Newton-Raphson method for faster convergence.\n",
    "\n",
    "- **`leaf_estimation_backtracking='No'`**: Specifies backtracking behavior during leaf value estimation. `'No'` disables any backtracking. *Changed from 'AnyImprovement'*.\n",
    "\n",
    "---\n",
    "\n",
    "## **Learning Rate and Convergence**\n",
    "\n",
    "- **`learning_rate=1`**: Step size used in gradient boosting. A higher learning rate speeds up training but risks overfitting. *Increased from 0.5*.\n",
    "\n",
    "---\n",
    "\n",
    "## **Loss Function and Metrics**\n",
    "\n",
    "- **`loss_function='Logloss'`**: Loss function used for binary classification, which minimizes the log loss.\n",
    "\n",
    "- **`eval_metric='Logloss'`**: Metric to evaluate during model training, matching the loss function used.\n",
    "\n",
    "---\n",
    "\n",
    "## **Data Handling**\n",
    "\n",
    "- **`auto_class_weights='None'`**: No automatic class weight balancing. This assumes that class distribution in the data is balanced.\n",
    "\n",
    "- **`eval_fraction=0`**: Fraction of data used for evaluation. A value of `0` indicates no separate evaluation set.\n",
    "\n",
    "- **`subsample=1`**: Fraction of data used for training each tree. A value of 1 means no subsampling. *Increased from 0.8*.\n",
    "\n",
    "---\n",
    "\n",
    "## **Cross-Validation and Permutations**\n",
    "\n",
    "- **`fold_permutation_block=0`**: Specifies block size for folding data during cross-validation. A value of 0 disables folding by blocks.\n",
    "\n",
    "- **`counter_calc_method='SkipTest'`**: Method used for calculating counter features. `'SkipTest'` means counters are calculated only on training data.\n",
    "\n",
    "- **`posterior_sampling=False`**: Disables posterior sampling for Bayesian-like updates of leaf values.\n",
    "\n",
    "---\n",
    "\n",
    "## **Scoring and Bootstrapping**\n",
    "\n",
    "- **`score_function='Cosine'`**: The scoring function used to evaluate splits. `'Cosine'` computes the cosine similarity between vectors.\n",
    "\n",
    "- **`sampling_frequency='PerTree'`**: Frequency for resampling data. `PerTree` means resampling occurs once per tree, which adds randomness.\n",
    "\n",
    "---\n",
    "\n",
    "## **Bootstrapping and Shrinkage**\n",
    "\n",
    "- **`boost_from_average=False`**: Whether to initialize leaf values from the mean of the target variable. Setting it to `False` can help with imbalanced datasets.\n",
    "\n",
    "- **`best_model_min_trees=1`**: Minimum number of trees required to determine the best model. *Set to 1*.\n",
    "\n",
    "---\n",
    "\n",
    "## **Randomness and Reproducibility**\n",
    "\n",
    "- **`random_seed=0`**: Seed for random number generation to ensure reproducibility.\n",
    "\n",
    "- **`random_score_type='NormalWithModelSizeDecrease'`**: Type of randomness to introduce in scoring during splits. This type introduces noise proportional to model size.\n",
    "\n",
    "---\n",
    "\n",
    "## **Additional Configurations**\n",
    "\n",
    "- **`penalties_coefficient=1`**: Penalty coefficient applied to regularization terms, set to 1 for no additional penalties.\n",
    "\n",
    "- **`task_type='CPU'`**: Specifies the type of processor to use for training (CPU-based training).\n",
    "\n",
    "- **`use_best_model=False`**: Disables the automatic selection of the best model during training.\n",
    "\n",
    "- **`nan_mode='Min'`**: Specifies how to handle missing values (NaN). `'Min'` treats missing values as the smallest possible values.\n",
    "\n",
    "---"
   ]
  },
  {
   "cell_type": "code",
   "execution_count": null,
   "metadata": {},
   "outputs": [],
   "source": []
  },
  {
   "cell_type": "markdown",
   "metadata": {},
   "source": [
    "## Which Parameters to tune?\n",
    "\n",
    "| Parameter | Description | CB1 | CB2 | CB_tut | AWS | Forecastegy | Optuna |\n",
    "| --- | --- | --- | --- | --- | --- | --- | --- |\n",
    "| `learning_rate` | Step size used in gradient boosting | X | X | X | X | X | |\n",
    "| `random_strength` | Strength of random noise added to splits' scores | X | X |  | X | | |\n",
    "| `one_hot_max_size` | Maximum number of unique categorical values for which one-hot encoding is used | X |  |  |  | | |\n",
    "| `l2_leaf_reg` | L2 regularization coefficient applied to leaf values | X | X | X | X | | |\n",
    "| `bagging_temperature` | Controls the intensity of sampling | X | X |  |  |  | |\n",
    "| `iterations` | Number of trees to build | X | X |  |  | X | |\n",
    "| `use_best_model` | Use the best model found during training |  | X |  |  | | |\n",
    "| `eval_metric` | Metric to evaluate during model training |  | X |  |  | | X |\n",
    "| `od_type` | Type of overfitting detector to use |  | X |  |  | | |\n",
    "| `od_pval` | Threshold for the overfitting detector |  | X |  |  | | |\n",
    "| `od_wait` | Number of iterations to continue training after overfitting is detected |  | X |  |  | | |\n",
    "| `depth` | Depth of the trees |  | X | X | X | X | X |\n",
    "| `border_count` | Number of splits for numeric features |  | X |  |  | | |\n",
    "| `has_time` | Use time as a feature (data has time order) |  | X |  |  | | |\n",
    "| `grow_policy` | Strategy for growing trees |  | X |  |  | | |\n",
    "| `min_data_in_leaf` | Minimum number of training samples in a leaf |  | X |  |  | X | |\n",
    "| `max_leaves` | Maximum number of leaves in a tree |  | X |  |  | | |\n",
    "| `per_float_feature_quantization` | Number of bits to use for quantizing numerical features |  | X |  |  | | |\n",
    "| `max_ctr_complexity` | Maximum complexity of combinatorial feature transformations for categorical features |  |  | X |  | |  |  \n",
    "| `boosting_type` | Type of boosting algorithm |  |  | X |  | |  X |\n",
    "| `subsample` | Fraction of data used for training each tree |  |  |  |  | X | |\n",
    "| `col_sample_bylevel` | Fraction of features to consider for each level |  |  |  |  | X | X |\n",
    "| `bootstrap_type` | Sampling method for bagging |  |  |  |  | |  X |\n",
    "| `used_ram_limit` | Maximum amount of RAM to use for training |  |  |  |  | |  X |\n",
    "| `objective` | Objective function to optimize |  |  |  |  | | X |\n",
    "\n",
    "\n",
    "Taken from:\n",
    "- CB1 - CatBoost PDF \n",
    "- CB2 - https://catboost.ai/en/docs/concepts/parameter-tuning\n",
    "- CB_tut - https://github.com/catboost/tutorials/blob/master/hyperparameters_tuning/hyperparameters_tuning_using_optuna_and_hyperopt.ipynb\n",
    "- AWS - https://docs.aws.amazon.com/sagemaker/latest/dg/catboost-tuning.html\n",
    "- Forecastegy - https://forecastegy.com/posts/catboost-hyperparameter-tuning-guide-with-optuna/\n",
    "- Optuna - https://github.com/optuna/optuna-examples/blob/main/catboost/catboost_pruning.py"
   ]
  },
  {
   "cell_type": "code",
   "execution_count": null,
   "metadata": {},
   "outputs": [],
   "source": [
    "# takes about 45 seconds to run\n",
    "import matplotlib.pyplot as plt\n",
    "from yellowbrick import model_selection as ms\n",
    "from yellowbrick.utils import types, helpers\n",
    "from yellowbrick import base\n",
    "\n",
    "base.get_model_name = lambda model: 'CatBoost'\n",
    "#helpers.is_esitmator = lambda model: print(f'calling {model=}') or True\n",
    "\n",
    "fig, ax = plt.subplots(figsize=(8,4))\n",
    "ms.validation_curve(catboost.CatBoostClassifier(cat_features=list(X_train.columns), verbose=False),\n",
    "                    X, y, param_name='depth', param_range=range(1,6))\n",
    "            "
   ]
  },
  {
   "cell_type": "code",
   "execution_count": null,
   "metadata": {
    "scrolled": true
   },
   "outputs": [],
   "source": [
    "# takes about 90 seconds to run\n",
    "import matplotlib.pyplot as plt\n",
    "from yellowbrick import model_selection as ms\n",
    "from yellowbrick.utils import types, helpers\n",
    "from yellowbrick import base\n",
    "\n",
    "base.get_model_name = lambda model: 'CatBoost'\n",
    "#helpers.is_esitmator = lambda model: print(f'calling {model=}') or True\n",
    "\n",
    "fig, ax = plt.subplots(figsize=(8,4))\n",
    "ms.validation_curve(catboost.CatBoostClassifier(cat_features=list(X_train.columns), verbose=False),\n",
    "                    X, y, param_name='l2_leaf_reg', param_range=[0, 1, 3, 5, 10, 100])\n",
    "            "
   ]
  },
  {
   "cell_type": "code",
   "execution_count": null,
   "metadata": {
    "scrolled": true
   },
   "outputs": [],
   "source": [
    "# takes about 90 seconds to run\n",
    "import matplotlib.pyplot as plt\n",
    "from yellowbrick import model_selection as ms\n",
    "from yellowbrick.utils import types, helpers\n",
    "from yellowbrick import base\n",
    "\n",
    "base.get_model_name = lambda model: 'CatBoost'\n",
    "#helpers.is_esitmator = lambda model: print(f'calling {model=}') or True\n",
    "\n",
    "fig, ax = plt.subplots(figsize=(8,4))\n",
    "ms.validation_curve(catboost.CatBoostClassifier(cat_features=list(X_train.columns), verbose=False),\n",
    "                    X, y, param_name='l2_leaf_reg', param_range=[8, 10, 12, 20])\n",
    "            "
   ]
  },
  {
   "cell_type": "code",
   "execution_count": null,
   "metadata": {
    "scrolled": true
   },
   "outputs": [],
   "source": [
    "# takes about 90 seconds to run\n",
    "import matplotlib.pyplot as plt\n",
    "from yellowbrick import model_selection as ms\n",
    "from yellowbrick.utils import types, helpers\n",
    "from yellowbrick import base\n",
    "\n",
    "base.get_model_name = lambda model: 'CatBoost'\n",
    "#helpers.is_esitmator = lambda model: print(f'calling {model=}') or True\n",
    "\n",
    "fig, ax = plt.subplots(figsize=(8,4))\n",
    "ms.validation_curve(catboost.CatBoostClassifier(cat_features=list(X_train.columns), verbose=False),\n",
    "                    X, y, param_name='min_data_in_leaf', param_range=[1, 2, 5, 10, 20])\n",
    "            "
   ]
  },
  {
   "cell_type": "code",
   "execution_count": null,
   "metadata": {},
   "outputs": [],
   "source": [
    "%%time\n",
    "from sklearn import model_selection\n",
    "# this takes a while to run (about 2 minutes)\n",
    "# can set scoring in GridSearchCV to \n",
    "# recall, precision, f1, accuracy\n",
    "params = {\n",
    "          'learning_rate': [.1, .3], # makes each boost more conservative (0 - no shrinkage) \n",
    "          'random_strength': [.5, 1, 2],\n",
    "          'one_hot_max_size': [1, 32, 64],\n",
    "          #'gamma': [0, 1],\n",
    "          'l2_leaf_reg': [0, 1, 2],\n",
    "          \n",
    "          'bagging_temperature': [0, 1],\n",
    "          #'early_stopping_rounds':[10],\n",
    "          'n_estimators': [200]}\n",
    "cb3 = catboost.CatBoostClassifier(cat_features=list(X_train.columns), verbose=False)\n",
    "cv = (model_selection.GridSearchCV(cb3, params, cv=3)#, n_jobs=-1)\n",
    "    .fit(X, y)\n",
    "#         eval_set=[(kag_X_test, kag_y_test)],\n",
    " #        early_stopping_rounds=5, verbose=10) \n",
    "     )"
   ]
  },
  {
   "cell_type": "code",
   "execution_count": null,
   "metadata": {},
   "outputs": [],
   "source": [
    "bcv.best_params_"
   ]
  },
  {
   "cell_type": "code",
   "execution_count": null,
   "metadata": {},
   "outputs": [],
   "source": [
    "params = {'bagging_temperature': 0,\n",
    " 'l2_leaf_reg': 2,\n",
    " 'learning_rate': 0.1,\n",
    " 'n_estimators': 200,\n",
    " 'one_hot_max_size': 1,\n",
    " 'random_strength': 0.5}\n",
    "cb4 = catboost.CatBoostClassifier(**params, cat_features=list(X_train.columns), verbose=False)\n",
    "cb4.fit(X_train, y_train)\n",
    "cb4.score(X_test, y_test)"
   ]
  },
  {
   "cell_type": "code",
   "execution_count": null,
   "metadata": {
    "scrolled": true
   },
   "outputs": [
    {
     "name": "stdout",
     "output_type": "stream",
     "text": [
      "342:\tlearn: 0.4791788\ttotal: 787ms\tremaining: 1.51s\n",
      "343:\tlearn: 0.4790781\ttotal: 789ms\tremaining: 1.5s\n",
      "344:\tlearn: 0.4790209\ttotal: 792ms\tremaining: 1.5s\n",
      "345:\tlearn: 0.4787917\ttotal: 795ms\tremaining: 1.5s\n",
      "346:\tlearn: 0.4787917\ttotal: 795ms\tremaining: 1.5s\n",
      "347:\tlearn: 0.4786865\ttotal: 799ms\tremaining: 1.5s\n",
      "348:\tlearn: 0.4786023\ttotal: 808ms\tremaining: 1.51s\n",
      "349:\tlearn: 0.4783452\ttotal: 810ms\tremaining: 1.5s\n",
      "350:\tlearn: 0.4780642\ttotal: 812ms\tremaining: 1.5s\n",
      "351:\tlearn: 0.4778878\ttotal: 815ms\tremaining: 1.5s\n",
      "352:\tlearn: 0.4777294\ttotal: 820ms\tremaining: 1.5s\n",
      "353:\tlearn: 0.4776565\ttotal: 826ms\tremaining: 1.51s\n",
      "354:\tlearn: 0.4774580\ttotal: 832ms\tremaining: 1.51s\n",
      "355:\tlearn: 0.4773928\ttotal: 841ms\tremaining: 1.52s\n",
      "356:\tlearn: 0.4772339\ttotal: 912ms\tremaining: 1.64s\n",
      "357:\tlearn: 0.4771537\ttotal: 923ms\tremaining: 1.65s\n",
      "358:\tlearn: 0.4768508\ttotal: 944ms\tremaining: 1.68s\n",
      "359:\tlearn: 0.4767956\ttotal: 947ms\tremaining: 1.68s\n",
      "360:\tlearn: 0.4765704\ttotal: 950ms\tremaining: 1.68s\n",
      "361:\tlearn: 0.4765070\ttotal: 958ms\tremaining: 1.69s\n",
      "362:\tlearn: 0.4763305\ttotal: 964ms\tremaining: 1.69s\n",
      "363:\tlearn: 0.4762771\ttotal: 966ms\tremaining: 1.69s\n",
      "364:\tlearn: 0.4762324\ttotal: 969ms\tremaining: 1.69s\n",
      "365:\tlearn: 0.4761375\ttotal: 972ms\tremaining: 1.68s\n",
      "366:\tlearn: 0.4759032\ttotal: 974ms\tremaining: 1.68s\n",
      "367:\tlearn: 0.4757341\ttotal: 977ms\tremaining: 1.68s\n",
      "368:\tlearn: 0.4756012\ttotal: 979ms\tremaining: 1.67s\n",
      "369:\tlearn: 0.4756012\ttotal: 981ms\tremaining: 1.67s\n",
      "370:\tlearn: 0.4755624\ttotal: 983ms\tremaining: 1.67s\n",
      "371:\tlearn: 0.4755624\ttotal: 984ms\tremaining: 1.66s\n",
      "372:\tlearn: 0.4754906\ttotal: 987ms\tremaining: 1.66s\n",
      "373:\tlearn: 0.4754442\ttotal: 990ms\tremaining: 1.66s\n",
      "374:\tlearn: 0.4753970\ttotal: 992ms\tremaining: 1.65s\n",
      "375:\tlearn: 0.4752708\ttotal: 994ms\tremaining: 1.65s\n",
      "376:\tlearn: 0.4750870\ttotal: 997ms\tremaining: 1.65s\n",
      "377:\tlearn: 0.4748472\ttotal: 1s\tremaining: 1.65s\n",
      "378:\tlearn: 0.4746940\ttotal: 1s\tremaining: 1.64s\n",
      "379:\tlearn: 0.4745282\ttotal: 1.01s\tremaining: 1.64s\n",
      "380:\tlearn: 0.4743346\ttotal: 1.01s\tremaining: 1.64s\n",
      "381:\tlearn: 0.4742622\ttotal: 1.01s\tremaining: 1.64s\n",
      "382:\tlearn: 0.4741350\ttotal: 1.01s\tremaining: 1.64s\n",
      "383:\tlearn: 0.4738235\ttotal: 1.02s\tremaining: 1.63s\n",
      "384:\tlearn: 0.4737410\ttotal: 1.02s\tremaining: 1.63s\n",
      "385:\tlearn: 0.4736143\ttotal: 1.02s\tremaining: 1.63s\n",
      "386:\tlearn: 0.4732822\ttotal: 1.02s\tremaining: 1.62s\n",
      "387:\tlearn: 0.4731070\ttotal: 1.03s\tremaining: 1.62s\n",
      "388:\tlearn: 0.4729926\ttotal: 1.03s\tremaining: 1.62s\n",
      "389:\tlearn: 0.4726658\ttotal: 1.03s\tremaining: 1.61s\n",
      "390:\tlearn: 0.4725278\ttotal: 1.03s\tremaining: 1.61s\n",
      "391:\tlearn: 0.4723963\ttotal: 1.03s\tremaining: 1.61s\n",
      "392:\tlearn: 0.4723235\ttotal: 1.04s\tremaining: 1.6s\n",
      "393:\tlearn: 0.4722121\ttotal: 1.04s\tremaining: 1.6s\n",
      "394:\tlearn: 0.4720728\ttotal: 1.04s\tremaining: 1.6s\n",
      "395:\tlearn: 0.4718565\ttotal: 1.05s\tremaining: 1.6s\n",
      "396:\tlearn: 0.4717487\ttotal: 1.05s\tremaining: 1.59s\n",
      "397:\tlearn: 0.4716018\ttotal: 1.05s\tremaining: 1.59s\n",
      "398:\tlearn: 0.4711615\ttotal: 1.05s\tremaining: 1.59s\n",
      "399:\tlearn: 0.4710721\ttotal: 1.06s\tremaining: 1.58s\n",
      "400:\tlearn: 0.4708207\ttotal: 1.06s\tremaining: 1.58s\n",
      "401:\tlearn: 0.4704714\ttotal: 1.06s\tremaining: 1.58s\n",
      "402:\tlearn: 0.4703038\ttotal: 1.06s\tremaining: 1.57s\n",
      "403:\tlearn: 0.4701652\ttotal: 1.06s\tremaining: 1.57s\n",
      "404:\tlearn: 0.4701120\ttotal: 1.07s\tremaining: 1.57s\n",
      "405:\tlearn: 0.4700080\ttotal: 1.07s\tremaining: 1.57s\n",
      "406:\tlearn: 0.4699033\ttotal: 1.07s\tremaining: 1.56s\n",
      "407:\tlearn: 0.4698338\ttotal: 1.08s\tremaining: 1.56s\n",
      "408:\tlearn: 0.4697572\ttotal: 1.08s\tremaining: 1.56s\n",
      "409:\tlearn: 0.4693712\ttotal: 1.08s\tremaining: 1.55s\n",
      "410:\tlearn: 0.4692566\ttotal: 1.08s\tremaining: 1.55s\n",
      "411:\tlearn: 0.4690671\ttotal: 1.09s\tremaining: 1.55s\n",
      "412:\tlearn: 0.4690275\ttotal: 1.09s\tremaining: 1.55s\n",
      "413:\tlearn: 0.4687980\ttotal: 1.09s\tremaining: 1.54s\n",
      "414:\tlearn: 0.4686586\ttotal: 1.09s\tremaining: 1.54s\n",
      "415:\tlearn: 0.4685943\ttotal: 1.09s\tremaining: 1.54s\n",
      "416:\tlearn: 0.4683775\ttotal: 1.1s\tremaining: 1.53s\n",
      "417:\tlearn: 0.4681902\ttotal: 1.1s\tremaining: 1.53s\n",
      "418:\tlearn: 0.4680240\ttotal: 1.1s\tremaining: 1.53s\n",
      "419:\tlearn: 0.4677785\ttotal: 1.1s\tremaining: 1.53s\n",
      "420:\tlearn: 0.4675446\ttotal: 1.11s\tremaining: 1.52s\n",
      "421:\tlearn: 0.4673832\ttotal: 1.11s\tremaining: 1.52s\n",
      "422:\tlearn: 0.4672987\ttotal: 1.11s\tremaining: 1.52s\n",
      "423:\tlearn: 0.4670797\ttotal: 1.12s\tremaining: 1.52s\n",
      "424:\tlearn: 0.4670052\ttotal: 1.12s\tremaining: 1.51s\n",
      "425:\tlearn: 0.4666792\ttotal: 1.12s\tremaining: 1.51s\n",
      "426:\tlearn: 0.4665943\ttotal: 1.12s\tremaining: 1.51s\n",
      "427:\tlearn: 0.4661937\ttotal: 1.13s\tremaining: 1.5s\n",
      "428:\tlearn: 0.4661474\ttotal: 1.13s\tremaining: 1.5s\n",
      "429:\tlearn: 0.4660794\ttotal: 1.13s\tremaining: 1.5s\n",
      "430:\tlearn: 0.4659281\ttotal: 1.13s\tremaining: 1.5s\n",
      "431:\tlearn: 0.4657438\ttotal: 1.14s\tremaining: 1.49s\n",
      "432:\tlearn: 0.4655817\ttotal: 1.14s\tremaining: 1.49s\n",
      "433:\tlearn: 0.4655788\ttotal: 1.14s\tremaining: 1.49s\n",
      "434:\tlearn: 0.4654696\ttotal: 1.14s\tremaining: 1.48s\n",
      "435:\tlearn: 0.4652788\ttotal: 1.14s\tremaining: 1.48s\n",
      "436:\tlearn: 0.4651770\ttotal: 1.15s\tremaining: 1.48s\n",
      "437:\tlearn: 0.4651034\ttotal: 1.15s\tremaining: 1.48s\n",
      "438:\tlearn: 0.4651005\ttotal: 1.15s\tremaining: 1.47s\n",
      "439:\tlearn: 0.4648536\ttotal: 1.15s\tremaining: 1.47s\n",
      "440:\tlearn: 0.4647677\ttotal: 1.16s\tremaining: 1.47s\n",
      "441:\tlearn: 0.4645492\ttotal: 1.16s\tremaining: 1.46s\n",
      "442:\tlearn: 0.4644730\ttotal: 1.16s\tremaining: 1.46s\n",
      "443:\tlearn: 0.4643866\ttotal: 1.16s\tremaining: 1.46s\n",
      "444:\tlearn: 0.4642507\ttotal: 1.17s\tremaining: 1.46s\n",
      "445:\tlearn: 0.4640954\ttotal: 1.17s\tremaining: 1.45s\n",
      "446:\tlearn: 0.4639195\ttotal: 1.17s\tremaining: 1.45s\n",
      "447:\tlearn: 0.4638576\ttotal: 1.18s\tremaining: 1.45s\n",
      "448:\tlearn: 0.4636943\ttotal: 1.18s\tremaining: 1.45s\n",
      "449:\tlearn: 0.4635683\ttotal: 1.18s\tremaining: 1.45s\n",
      "450:\tlearn: 0.4635673\ttotal: 1.18s\tremaining: 1.44s\n",
      "451:\tlearn: 0.4635452\ttotal: 1.19s\tremaining: 1.44s\n",
      "452:\tlearn: 0.4634904\ttotal: 1.19s\tremaining: 1.44s\n",
      "453:\tlearn: 0.4634064\ttotal: 1.19s\tremaining: 1.43s\n",
      "454:\tlearn: 0.4633242\ttotal: 1.19s\tremaining: 1.43s\n",
      "455:\tlearn: 0.4631658\ttotal: 1.2s\tremaining: 1.43s\n",
      "456:\tlearn: 0.4631102\ttotal: 1.2s\tremaining: 1.42s\n",
      "457:\tlearn: 0.4629336\ttotal: 1.2s\tremaining: 1.42s\n",
      "458:\tlearn: 0.4628699\ttotal: 1.2s\tremaining: 1.42s\n",
      "459:\tlearn: 0.4627965\ttotal: 1.21s\tremaining: 1.42s\n",
      "460:\tlearn: 0.4626219\ttotal: 1.21s\tremaining: 1.41s\n",
      "461:\tlearn: 0.4625885\ttotal: 1.21s\tremaining: 1.41s\n",
      "462:\tlearn: 0.4623726\ttotal: 1.21s\tremaining: 1.41s\n",
      "463:\tlearn: 0.4623075\ttotal: 1.21s\tremaining: 1.4s\n",
      "464:\tlearn: 0.4622144\ttotal: 1.22s\tremaining: 1.4s\n",
      "465:\tlearn: 0.4621318\ttotal: 1.22s\tremaining: 1.4s\n",
      "466:\tlearn: 0.4618874\ttotal: 1.22s\tremaining: 1.39s\n",
      "467:\tlearn: 0.4618343\ttotal: 1.22s\tremaining: 1.39s\n",
      "468:\tlearn: 0.4616805\ttotal: 1.22s\tremaining: 1.39s\n",
      "469:\tlearn: 0.4612667\ttotal: 1.23s\tremaining: 1.38s\n",
      "470:\tlearn: 0.4610439\ttotal: 1.23s\tremaining: 1.38s\n",
      "471:\tlearn: 0.4609186\ttotal: 1.23s\tremaining: 1.38s\n",
      "472:\tlearn: 0.4607461\ttotal: 1.23s\tremaining: 1.37s\n",
      "473:\tlearn: 0.4606180\ttotal: 1.24s\tremaining: 1.37s\n",
      "474:\tlearn: 0.4604283\ttotal: 1.24s\tremaining: 1.37s\n",
      "475:\tlearn: 0.4603663\ttotal: 1.24s\tremaining: 1.37s\n",
      "476:\tlearn: 0.4603466\ttotal: 1.25s\tremaining: 1.36s\n",
      "477:\tlearn: 0.4601411\ttotal: 1.25s\tremaining: 1.36s\n",
      "478:\tlearn: 0.4600861\ttotal: 1.25s\tremaining: 1.36s\n",
      "479:\tlearn: 0.4599975\ttotal: 1.25s\tremaining: 1.35s\n",
      "480:\tlearn: 0.4599951\ttotal: 1.25s\tremaining: 1.35s\n",
      "481:\tlearn: 0.4595784\ttotal: 1.25s\tremaining: 1.35s\n",
      "482:\tlearn: 0.4593380\ttotal: 1.26s\tremaining: 1.35s\n",
      "483:\tlearn: 0.4591913\ttotal: 1.26s\tremaining: 1.35s\n",
      "484:\tlearn: 0.4590782\ttotal: 1.27s\tremaining: 1.34s\n",
      "485:\tlearn: 0.4589582\ttotal: 1.27s\tremaining: 1.34s\n",
      "486:\tlearn: 0.4589103\ttotal: 1.27s\tremaining: 1.34s\n",
      "487:\tlearn: 0.4588355\ttotal: 1.27s\tremaining: 1.34s\n",
      "488:\tlearn: 0.4586402\ttotal: 1.28s\tremaining: 1.33s\n",
      "489:\tlearn: 0.4584500\ttotal: 1.28s\tremaining: 1.33s\n",
      "490:\tlearn: 0.4583301\ttotal: 1.28s\tremaining: 1.33s\n",
      "491:\tlearn: 0.4581100\ttotal: 1.29s\tremaining: 1.33s\n",
      "492:\tlearn: 0.4581090\ttotal: 1.29s\tremaining: 1.32s\n",
      "493:\tlearn: 0.4580219\ttotal: 1.29s\tremaining: 1.32s\n",
      "494:\tlearn: 0.4579217\ttotal: 1.29s\tremaining: 1.32s\n",
      "495:\tlearn: 0.4577972\ttotal: 1.29s\tremaining: 1.32s\n",
      "496:\tlearn: 0.4577398\ttotal: 1.3s\tremaining: 1.31s\n",
      "497:\tlearn: 0.4575900\ttotal: 1.3s\tremaining: 1.31s\n",
      "498:\tlearn: 0.4575346\ttotal: 1.3s\tremaining: 1.31s\n",
      "499:\tlearn: 0.4574255\ttotal: 1.31s\tremaining: 1.31s\n",
      "500:\tlearn: 0.4572853\ttotal: 1.31s\tremaining: 1.3s\n",
      "501:\tlearn: 0.4571905\ttotal: 1.31s\tremaining: 1.3s\n",
      "502:\tlearn: 0.4571442\ttotal: 1.31s\tremaining: 1.3s\n",
      "503:\tlearn: 0.4570472\ttotal: 1.32s\tremaining: 1.3s\n",
      "504:\tlearn: 0.4568307\ttotal: 1.32s\tremaining: 1.29s\n",
      "505:\tlearn: 0.4566916\ttotal: 1.32s\tremaining: 1.29s\n",
      "506:\tlearn: 0.4564481\ttotal: 1.32s\tremaining: 1.29s\n",
      "507:\tlearn: 0.4562903\ttotal: 1.33s\tremaining: 1.28s\n",
      "508:\tlearn: 0.4561896\ttotal: 1.33s\tremaining: 1.28s\n",
      "509:\tlearn: 0.4560590\ttotal: 1.33s\tremaining: 1.28s\n",
      "510:\tlearn: 0.4560402\ttotal: 1.33s\tremaining: 1.28s\n",
      "511:\tlearn: 0.4559038\ttotal: 1.34s\tremaining: 1.27s\n",
      "512:\tlearn: 0.4557513\ttotal: 1.34s\tremaining: 1.27s\n",
      "513:\tlearn: 0.4555995\ttotal: 1.34s\tremaining: 1.27s\n",
      "514:\tlearn: 0.4554760\ttotal: 1.34s\tremaining: 1.27s\n",
      "515:\tlearn: 0.4553718\ttotal: 1.35s\tremaining: 1.26s\n",
      "516:\tlearn: 0.4551714\ttotal: 1.35s\tremaining: 1.26s\n",
      "517:\tlearn: 0.4549508\ttotal: 1.35s\tremaining: 1.26s\n",
      "518:\tlearn: 0.4547779\ttotal: 1.35s\tremaining: 1.25s\n",
      "519:\tlearn: 0.4546792\ttotal: 1.35s\tremaining: 1.25s\n",
      "520:\tlearn: 0.4546080\ttotal: 1.36s\tremaining: 1.25s\n",
      "521:\tlearn: 0.4543986\ttotal: 1.36s\tremaining: 1.25s\n",
      "522:\tlearn: 0.4543676\ttotal: 1.36s\tremaining: 1.24s\n",
      "523:\tlearn: 0.4541365\ttotal: 1.36s\tremaining: 1.24s\n",
      "524:\tlearn: 0.4541365\ttotal: 1.36s\tremaining: 1.23s\n",
      "525:\tlearn: 0.4540744\ttotal: 1.37s\tremaining: 1.23s\n",
      "526:\tlearn: 0.4539754\ttotal: 1.37s\tremaining: 1.23s\n"
     ]
    },
    {
     "name": "stdout",
     "output_type": "stream",
     "text": [
      "527:\tlearn: 0.4539446\ttotal: 1.37s\tremaining: 1.23s\n",
      "528:\tlearn: 0.4539335\ttotal: 1.37s\tremaining: 1.22s\n",
      "529:\tlearn: 0.4536430\ttotal: 1.38s\tremaining: 1.22s\n",
      "530:\tlearn: 0.4533376\ttotal: 1.38s\tremaining: 1.22s\n",
      "531:\tlearn: 0.4531387\ttotal: 1.38s\tremaining: 1.22s\n",
      "532:\tlearn: 0.4530995\ttotal: 1.38s\tremaining: 1.21s\n",
      "533:\tlearn: 0.4530374\ttotal: 1.39s\tremaining: 1.21s\n",
      "534:\tlearn: 0.4528198\ttotal: 1.39s\tremaining: 1.21s\n",
      "535:\tlearn: 0.4527700\ttotal: 1.39s\tremaining: 1.2s\n",
      "536:\tlearn: 0.4525953\ttotal: 1.39s\tremaining: 1.2s\n",
      "537:\tlearn: 0.4524333\ttotal: 1.4s\tremaining: 1.2s\n",
      "538:\tlearn: 0.4523671\ttotal: 1.4s\tremaining: 1.2s\n",
      "539:\tlearn: 0.4523319\ttotal: 1.4s\tremaining: 1.19s\n",
      "540:\tlearn: 0.4522350\ttotal: 1.4s\tremaining: 1.19s\n",
      "541:\tlearn: 0.4521543\ttotal: 1.41s\tremaining: 1.19s\n",
      "542:\tlearn: 0.4520414\ttotal: 1.41s\tremaining: 1.19s\n",
      "543:\tlearn: 0.4519647\ttotal: 1.41s\tremaining: 1.18s\n",
      "544:\tlearn: 0.4518761\ttotal: 1.41s\tremaining: 1.18s\n",
      "545:\tlearn: 0.4517504\ttotal: 1.42s\tremaining: 1.18s\n",
      "546:\tlearn: 0.4516525\ttotal: 1.42s\tremaining: 1.17s\n",
      "547:\tlearn: 0.4515511\ttotal: 1.42s\tremaining: 1.17s\n",
      "548:\tlearn: 0.4514120\ttotal: 1.42s\tremaining: 1.17s\n",
      "549:\tlearn: 0.4511510\ttotal: 1.43s\tremaining: 1.17s\n",
      "550:\tlearn: 0.4510727\ttotal: 1.43s\tremaining: 1.16s\n",
      "551:\tlearn: 0.4509725\ttotal: 1.43s\tremaining: 1.16s\n",
      "552:\tlearn: 0.4509237\ttotal: 1.43s\tremaining: 1.16s\n",
      "553:\tlearn: 0.4508995\ttotal: 1.43s\tremaining: 1.16s\n",
      "554:\tlearn: 0.4505927\ttotal: 1.44s\tremaining: 1.15s\n",
      "555:\tlearn: 0.4504447\ttotal: 1.44s\tremaining: 1.15s\n",
      "556:\tlearn: 0.4502683\ttotal: 1.44s\tremaining: 1.15s\n",
      "557:\tlearn: 0.4501123\ttotal: 1.44s\tremaining: 1.14s\n",
      "558:\tlearn: 0.4500275\ttotal: 1.45s\tremaining: 1.14s\n",
      "559:\tlearn: 0.4499705\ttotal: 1.45s\tremaining: 1.14s\n",
      "560:\tlearn: 0.4498018\ttotal: 1.45s\tremaining: 1.14s\n",
      "561:\tlearn: 0.4497069\ttotal: 1.46s\tremaining: 1.13s\n",
      "562:\tlearn: 0.4495033\ttotal: 1.46s\tremaining: 1.13s\n",
      "563:\tlearn: 0.4493740\ttotal: 1.46s\tremaining: 1.13s\n",
      "564:\tlearn: 0.4490581\ttotal: 1.46s\tremaining: 1.13s\n",
      "565:\tlearn: 0.4489949\ttotal: 1.46s\tremaining: 1.12s\n",
      "566:\tlearn: 0.4489936\ttotal: 1.47s\tremaining: 1.12s\n",
      "567:\tlearn: 0.4488499\ttotal: 1.47s\tremaining: 1.12s\n",
      "568:\tlearn: 0.4488365\ttotal: 1.47s\tremaining: 1.11s\n",
      "569:\tlearn: 0.4488039\ttotal: 1.47s\tremaining: 1.11s\n",
      "570:\tlearn: 0.4487448\ttotal: 1.47s\tremaining: 1.11s\n",
      "571:\tlearn: 0.4486896\ttotal: 1.48s\tremaining: 1.1s\n",
      "572:\tlearn: 0.4486426\ttotal: 1.48s\tremaining: 1.1s\n",
      "573:\tlearn: 0.4485362\ttotal: 1.48s\tremaining: 1.1s\n",
      "574:\tlearn: 0.4484596\ttotal: 1.48s\tremaining: 1.1s\n",
      "575:\tlearn: 0.4483377\ttotal: 1.49s\tremaining: 1.09s\n",
      "576:\tlearn: 0.4483353\ttotal: 1.49s\tremaining: 1.09s\n",
      "577:\tlearn: 0.4481126\ttotal: 1.49s\tremaining: 1.09s\n",
      "578:\tlearn: 0.4477907\ttotal: 1.49s\tremaining: 1.08s\n",
      "579:\tlearn: 0.4476668\ttotal: 1.5s\tremaining: 1.08s\n",
      "580:\tlearn: 0.4475099\ttotal: 1.5s\tremaining: 1.08s\n",
      "581:\tlearn: 0.4474185\ttotal: 1.5s\tremaining: 1.08s\n",
      "582:\tlearn: 0.4471999\ttotal: 1.5s\tremaining: 1.07s\n",
      "583:\tlearn: 0.4467321\ttotal: 1.51s\tremaining: 1.07s\n",
      "584:\tlearn: 0.4464693\ttotal: 1.51s\tremaining: 1.07s\n",
      "585:\tlearn: 0.4462234\ttotal: 1.51s\tremaining: 1.07s\n",
      "586:\tlearn: 0.4461646\ttotal: 1.51s\tremaining: 1.06s\n",
      "587:\tlearn: 0.4459852\ttotal: 1.51s\tremaining: 1.06s\n",
      "588:\tlearn: 0.4457502\ttotal: 1.52s\tremaining: 1.06s\n",
      "589:\tlearn: 0.4457192\ttotal: 1.52s\tremaining: 1.05s\n",
      "590:\tlearn: 0.4456907\ttotal: 1.52s\tremaining: 1.05s\n",
      "591:\tlearn: 0.4456591\ttotal: 1.52s\tremaining: 1.05s\n",
      "592:\tlearn: 0.4455149\ttotal: 1.53s\tremaining: 1.05s\n",
      "593:\tlearn: 0.4452438\ttotal: 1.53s\tremaining: 1.04s\n",
      "594:\tlearn: 0.4451496\ttotal: 1.53s\tremaining: 1.04s\n",
      "595:\tlearn: 0.4450680\ttotal: 1.53s\tremaining: 1.04s\n",
      "596:\tlearn: 0.4449357\ttotal: 1.54s\tremaining: 1.04s\n",
      "597:\tlearn: 0.4448934\ttotal: 1.54s\tremaining: 1.03s\n",
      "598:\tlearn: 0.4448667\ttotal: 1.54s\tremaining: 1.03s\n",
      "599:\tlearn: 0.4447794\ttotal: 1.54s\tremaining: 1.03s\n",
      "600:\tlearn: 0.4447646\ttotal: 1.55s\tremaining: 1.03s\n",
      "601:\tlearn: 0.4446926\ttotal: 1.55s\tremaining: 1.02s\n",
      "602:\tlearn: 0.4444924\ttotal: 1.55s\tremaining: 1.02s\n",
      "603:\tlearn: 0.4444398\ttotal: 1.55s\tremaining: 1.02s\n",
      "604:\tlearn: 0.4444225\ttotal: 1.55s\tremaining: 1.01s\n",
      "605:\tlearn: 0.4442239\ttotal: 1.56s\tremaining: 1.01s\n",
      "606:\tlearn: 0.4441281\ttotal: 1.56s\tremaining: 1.01s\n",
      "607:\tlearn: 0.4439955\ttotal: 1.56s\tremaining: 1.01s\n",
      "608:\tlearn: 0.4439127\ttotal: 1.56s\tremaining: 1s\n",
      "609:\tlearn: 0.4438797\ttotal: 1.57s\tremaining: 1s\n",
      "610:\tlearn: 0.4436824\ttotal: 1.57s\tremaining: 1000ms\n",
      "611:\tlearn: 0.4436146\ttotal: 1.57s\tremaining: 998ms\n",
      "612:\tlearn: 0.4434030\ttotal: 1.58s\tremaining: 995ms\n",
      "613:\tlearn: 0.4433466\ttotal: 1.58s\tremaining: 993ms\n",
      "614:\tlearn: 0.4431663\ttotal: 1.58s\tremaining: 990ms\n",
      "615:\tlearn: 0.4430666\ttotal: 1.58s\tremaining: 987ms\n",
      "616:\tlearn: 0.4429728\ttotal: 1.59s\tremaining: 985ms\n",
      "617:\tlearn: 0.4428629\ttotal: 1.59s\tremaining: 982ms\n",
      "618:\tlearn: 0.4427484\ttotal: 1.59s\tremaining: 980ms\n",
      "619:\tlearn: 0.4426716\ttotal: 1.59s\tremaining: 977ms\n",
      "620:\tlearn: 0.4424651\ttotal: 1.6s\tremaining: 975ms\n",
      "621:\tlearn: 0.4423732\ttotal: 1.6s\tremaining: 972ms\n",
      "622:\tlearn: 0.4422585\ttotal: 1.6s\tremaining: 970ms\n",
      "623:\tlearn: 0.4420734\ttotal: 1.61s\tremaining: 968ms\n",
      "624:\tlearn: 0.4418318\ttotal: 1.61s\tremaining: 965ms\n",
      "625:\tlearn: 0.4417174\ttotal: 1.61s\tremaining: 963ms\n",
      "626:\tlearn: 0.4415889\ttotal: 1.61s\tremaining: 960ms\n",
      "627:\tlearn: 0.4415049\ttotal: 1.62s\tremaining: 958ms\n",
      "628:\tlearn: 0.4414086\ttotal: 1.62s\tremaining: 955ms\n",
      "629:\tlearn: 0.4413367\ttotal: 1.62s\tremaining: 952ms\n",
      "630:\tlearn: 0.4412043\ttotal: 1.62s\tremaining: 950ms\n",
      "631:\tlearn: 0.4411166\ttotal: 1.63s\tremaining: 947ms\n",
      "632:\tlearn: 0.4410907\ttotal: 1.63s\tremaining: 944ms\n",
      "633:\tlearn: 0.4409854\ttotal: 1.63s\tremaining: 941ms\n",
      "634:\tlearn: 0.4407769\ttotal: 1.63s\tremaining: 938ms\n",
      "635:\tlearn: 0.4406442\ttotal: 1.63s\tremaining: 936ms\n",
      "636:\tlearn: 0.4404741\ttotal: 1.64s\tremaining: 933ms\n",
      "637:\tlearn: 0.4402852\ttotal: 1.64s\tremaining: 930ms\n",
      "638:\tlearn: 0.4400828\ttotal: 1.64s\tremaining: 927ms\n",
      "639:\tlearn: 0.4399916\ttotal: 1.64s\tremaining: 925ms\n",
      "640:\tlearn: 0.4398513\ttotal: 1.65s\tremaining: 922ms\n",
      "641:\tlearn: 0.4397234\ttotal: 1.65s\tremaining: 920ms\n",
      "642:\tlearn: 0.4396394\ttotal: 1.65s\tremaining: 917ms\n",
      "643:\tlearn: 0.4394192\ttotal: 1.65s\tremaining: 915ms\n",
      "644:\tlearn: 0.4391855\ttotal: 1.66s\tremaining: 912ms\n",
      "645:\tlearn: 0.4391521\ttotal: 1.66s\tremaining: 910ms\n",
      "646:\tlearn: 0.4388916\ttotal: 1.66s\tremaining: 907ms\n",
      "647:\tlearn: 0.4387856\ttotal: 1.67s\tremaining: 904ms\n",
      "648:\tlearn: 0.4385865\ttotal: 1.67s\tremaining: 902ms\n",
      "649:\tlearn: 0.4384639\ttotal: 1.67s\tremaining: 899ms\n",
      "650:\tlearn: 0.4381108\ttotal: 1.67s\tremaining: 897ms\n",
      "651:\tlearn: 0.4379084\ttotal: 1.68s\tremaining: 894ms\n",
      "652:\tlearn: 0.4378713\ttotal: 1.68s\tremaining: 892ms\n",
      "653:\tlearn: 0.4376582\ttotal: 1.68s\tremaining: 889ms\n",
      "654:\tlearn: 0.4374157\ttotal: 1.68s\tremaining: 886ms\n",
      "655:\tlearn: 0.4372259\ttotal: 1.68s\tremaining: 883ms\n",
      "656:\tlearn: 0.4370044\ttotal: 1.69s\tremaining: 881ms\n",
      "657:\tlearn: 0.4369639\ttotal: 1.69s\tremaining: 879ms\n",
      "658:\tlearn: 0.4368505\ttotal: 1.69s\tremaining: 876ms\n",
      "659:\tlearn: 0.4367623\ttotal: 1.7s\tremaining: 873ms\n",
      "660:\tlearn: 0.4366090\ttotal: 1.7s\tremaining: 871ms\n",
      "661:\tlearn: 0.4364073\ttotal: 1.7s\tremaining: 868ms\n",
      "662:\tlearn: 0.4363176\ttotal: 1.7s\tremaining: 865ms\n",
      "663:\tlearn: 0.4361587\ttotal: 1.71s\tremaining: 863ms\n",
      "664:\tlearn: 0.4360395\ttotal: 1.71s\tremaining: 860ms\n",
      "665:\tlearn: 0.4359384\ttotal: 1.71s\tremaining: 857ms\n",
      "666:\tlearn: 0.4358678\ttotal: 1.71s\tremaining: 855ms\n",
      "667:\tlearn: 0.4356358\ttotal: 1.71s\tremaining: 852ms\n",
      "668:\tlearn: 0.4354974\ttotal: 1.72s\tremaining: 849ms\n",
      "669:\tlearn: 0.4351965\ttotal: 1.72s\tremaining: 847ms\n",
      "670:\tlearn: 0.4350551\ttotal: 1.72s\tremaining: 844ms\n",
      "671:\tlearn: 0.4349618\ttotal: 1.72s\tremaining: 842ms\n",
      "672:\tlearn: 0.4348135\ttotal: 1.73s\tremaining: 839ms\n",
      "673:\tlearn: 0.4346620\ttotal: 1.73s\tremaining: 836ms\n",
      "674:\tlearn: 0.4346104\ttotal: 1.73s\tremaining: 834ms\n",
      "675:\tlearn: 0.4344883\ttotal: 1.73s\tremaining: 831ms\n",
      "676:\tlearn: 0.4343499\ttotal: 1.74s\tremaining: 828ms\n",
      "677:\tlearn: 0.4342414\ttotal: 1.74s\tremaining: 826ms\n",
      "678:\tlearn: 0.4341512\ttotal: 1.74s\tremaining: 823ms\n",
      "679:\tlearn: 0.4340844\ttotal: 1.74s\tremaining: 820ms\n",
      "680:\tlearn: 0.4339969\ttotal: 1.75s\tremaining: 818ms\n",
      "681:\tlearn: 0.4338737\ttotal: 1.75s\tremaining: 815ms\n",
      "682:\tlearn: 0.4336894\ttotal: 1.75s\tremaining: 813ms\n",
      "683:\tlearn: 0.4335195\ttotal: 1.75s\tremaining: 810ms\n",
      "684:\tlearn: 0.4334301\ttotal: 1.75s\tremaining: 807ms\n",
      "685:\tlearn: 0.4333047\ttotal: 1.76s\tremaining: 804ms\n",
      "686:\tlearn: 0.4332050\ttotal: 1.76s\tremaining: 802ms\n",
      "687:\tlearn: 0.4330390\ttotal: 1.76s\tremaining: 799ms\n",
      "688:\tlearn: 0.4329704\ttotal: 1.76s\tremaining: 796ms\n",
      "689:\tlearn: 0.4328057\ttotal: 1.77s\tremaining: 793ms\n"
     ]
    },
    {
     "name": "stdout",
     "output_type": "stream",
     "text": [
      "690:\tlearn: 0.4326579\ttotal: 1.77s\tremaining: 791ms\n",
      "691:\tlearn: 0.4325782\ttotal: 1.77s\tremaining: 788ms\n",
      "692:\tlearn: 0.4325767\ttotal: 1.77s\tremaining: 785ms\n",
      "693:\tlearn: 0.4325277\ttotal: 1.77s\tremaining: 783ms\n",
      "694:\tlearn: 0.4324034\ttotal: 1.78s\tremaining: 780ms\n",
      "695:\tlearn: 0.4322107\ttotal: 1.78s\tremaining: 778ms\n",
      "696:\tlearn: 0.4321532\ttotal: 1.78s\tremaining: 775ms\n",
      "697:\tlearn: 0.4320413\ttotal: 1.78s\tremaining: 772ms\n",
      "698:\tlearn: 0.4318441\ttotal: 1.79s\tremaining: 770ms\n",
      "699:\tlearn: 0.4318009\ttotal: 1.79s\tremaining: 767ms\n",
      "700:\tlearn: 0.4317142\ttotal: 1.79s\tremaining: 764ms\n",
      "701:\tlearn: 0.4316562\ttotal: 1.79s\tremaining: 762ms\n",
      "702:\tlearn: 0.4314328\ttotal: 1.8s\tremaining: 759ms\n",
      "703:\tlearn: 0.4312737\ttotal: 1.8s\tremaining: 757ms\n",
      "704:\tlearn: 0.4311999\ttotal: 1.8s\tremaining: 754ms\n",
      "705:\tlearn: 0.4311410\ttotal: 1.8s\tremaining: 751ms\n",
      "706:\tlearn: 0.4310753\ttotal: 1.81s\tremaining: 749ms\n",
      "707:\tlearn: 0.4309722\ttotal: 1.81s\tremaining: 746ms\n",
      "708:\tlearn: 0.4309316\ttotal: 1.81s\tremaining: 744ms\n",
      "709:\tlearn: 0.4308564\ttotal: 1.81s\tremaining: 741ms\n",
      "710:\tlearn: 0.4307322\ttotal: 1.82s\tremaining: 739ms\n",
      "711:\tlearn: 0.4306670\ttotal: 1.82s\tremaining: 736ms\n",
      "712:\tlearn: 0.4306408\ttotal: 1.82s\tremaining: 734ms\n",
      "713:\tlearn: 0.4303931\ttotal: 1.82s\tremaining: 731ms\n",
      "714:\tlearn: 0.4301474\ttotal: 1.83s\tremaining: 729ms\n",
      "715:\tlearn: 0.4298134\ttotal: 1.83s\tremaining: 726ms\n",
      "716:\tlearn: 0.4297036\ttotal: 1.83s\tremaining: 723ms\n",
      "717:\tlearn: 0.4295384\ttotal: 1.83s\tremaining: 721ms\n",
      "718:\tlearn: 0.4295123\ttotal: 1.84s\tremaining: 718ms\n",
      "719:\tlearn: 0.4292941\ttotal: 1.84s\tremaining: 715ms\n",
      "720:\tlearn: 0.4292195\ttotal: 1.84s\tremaining: 712ms\n",
      "721:\tlearn: 0.4292145\ttotal: 1.84s\tremaining: 710ms\n",
      "722:\tlearn: 0.4290921\ttotal: 1.84s\tremaining: 707ms\n",
      "723:\tlearn: 0.4290904\ttotal: 1.85s\tremaining: 704ms\n",
      "724:\tlearn: 0.4289857\ttotal: 1.85s\tremaining: 702ms\n",
      "725:\tlearn: 0.4289817\ttotal: 1.85s\tremaining: 699ms\n",
      "726:\tlearn: 0.4289684\ttotal: 1.85s\tremaining: 697ms\n",
      "727:\tlearn: 0.4287846\ttotal: 1.86s\tremaining: 694ms\n",
      "728:\tlearn: 0.4287403\ttotal: 1.86s\tremaining: 692ms\n",
      "729:\tlearn: 0.4285178\ttotal: 1.86s\tremaining: 689ms\n",
      "730:\tlearn: 0.4283158\ttotal: 1.86s\tremaining: 686ms\n",
      "731:\tlearn: 0.4282285\ttotal: 1.87s\tremaining: 684ms\n",
      "732:\tlearn: 0.4281545\ttotal: 1.87s\tremaining: 681ms\n",
      "733:\tlearn: 0.4278769\ttotal: 1.87s\tremaining: 678ms\n",
      "734:\tlearn: 0.4278715\ttotal: 1.87s\tremaining: 675ms\n",
      "735:\tlearn: 0.4276815\ttotal: 1.88s\tremaining: 673ms\n",
      "736:\tlearn: 0.4276736\ttotal: 1.88s\tremaining: 670ms\n",
      "737:\tlearn: 0.4276382\ttotal: 1.88s\tremaining: 667ms\n",
      "738:\tlearn: 0.4276114\ttotal: 1.88s\tremaining: 665ms\n",
      "739:\tlearn: 0.4274295\ttotal: 1.89s\tremaining: 663ms\n",
      "740:\tlearn: 0.4272291\ttotal: 1.89s\tremaining: 660ms\n",
      "741:\tlearn: 0.4271871\ttotal: 1.89s\tremaining: 657ms\n",
      "742:\tlearn: 0.4269539\ttotal: 1.89s\tremaining: 655ms\n",
      "743:\tlearn: 0.4267058\ttotal: 1.9s\tremaining: 652ms\n",
      "744:\tlearn: 0.4266019\ttotal: 1.9s\tremaining: 652ms\n",
      "745:\tlearn: 0.4264934\ttotal: 1.91s\tremaining: 649ms\n",
      "746:\tlearn: 0.4263426\ttotal: 1.91s\tremaining: 647ms\n",
      "747:\tlearn: 0.4262123\ttotal: 1.91s\tremaining: 644ms\n",
      "748:\tlearn: 0.4260927\ttotal: 1.91s\tremaining: 641ms\n",
      "749:\tlearn: 0.4259563\ttotal: 1.92s\tremaining: 639ms\n",
      "750:\tlearn: 0.4257010\ttotal: 1.92s\tremaining: 636ms\n",
      "751:\tlearn: 0.4256504\ttotal: 1.92s\tremaining: 633ms\n",
      "752:\tlearn: 0.4253955\ttotal: 1.92s\tremaining: 631ms\n",
      "753:\tlearn: 0.4253272\ttotal: 1.93s\tremaining: 628ms\n",
      "754:\tlearn: 0.4252686\ttotal: 1.93s\tremaining: 626ms\n",
      "755:\tlearn: 0.4251191\ttotal: 1.93s\tremaining: 623ms\n",
      "756:\tlearn: 0.4249052\ttotal: 1.93s\tremaining: 620ms\n",
      "757:\tlearn: 0.4248770\ttotal: 1.94s\tremaining: 618ms\n",
      "758:\tlearn: 0.4247807\ttotal: 1.94s\tremaining: 616ms\n",
      "759:\tlearn: 0.4247674\ttotal: 1.94s\tremaining: 613ms\n",
      "760:\tlearn: 0.4247224\ttotal: 1.94s\tremaining: 611ms\n",
      "761:\tlearn: 0.4245193\ttotal: 1.95s\tremaining: 608ms\n",
      "762:\tlearn: 0.4244792\ttotal: 1.95s\tremaining: 605ms\n",
      "763:\tlearn: 0.4244300\ttotal: 1.95s\tremaining: 603ms\n",
      "764:\tlearn: 0.4242020\ttotal: 1.96s\tremaining: 601ms\n",
      "765:\tlearn: 0.4239857\ttotal: 1.96s\tremaining: 598ms\n",
      "766:\tlearn: 0.4237406\ttotal: 1.96s\tremaining: 596ms\n",
      "767:\tlearn: 0.4235857\ttotal: 1.96s\tremaining: 593ms\n",
      "768:\tlearn: 0.4234731\ttotal: 1.97s\tremaining: 591ms\n",
      "769:\tlearn: 0.4234208\ttotal: 1.97s\tremaining: 588ms\n",
      "770:\tlearn: 0.4232648\ttotal: 1.97s\tremaining: 586ms\n",
      "771:\tlearn: 0.4231098\ttotal: 1.97s\tremaining: 583ms\n",
      "772:\tlearn: 0.4230644\ttotal: 1.98s\tremaining: 580ms\n",
      "773:\tlearn: 0.4230129\ttotal: 1.98s\tremaining: 578ms\n",
      "774:\tlearn: 0.4228929\ttotal: 1.98s\tremaining: 575ms\n",
      "775:\tlearn: 0.4227072\ttotal: 1.98s\tremaining: 573ms\n",
      "776:\tlearn: 0.4225776\ttotal: 1.99s\tremaining: 570ms\n",
      "777:\tlearn: 0.4224842\ttotal: 1.99s\tremaining: 568ms\n",
      "778:\tlearn: 0.4223780\ttotal: 1.99s\tremaining: 565ms\n",
      "779:\tlearn: 0.4222472\ttotal: 2s\tremaining: 563ms\n",
      "780:\tlearn: 0.4221617\ttotal: 2s\tremaining: 561ms\n",
      "781:\tlearn: 0.4220718\ttotal: 2s\tremaining: 558ms\n",
      "782:\tlearn: 0.4219190\ttotal: 2.01s\tremaining: 556ms\n",
      "783:\tlearn: 0.4219125\ttotal: 2.01s\tremaining: 554ms\n",
      "784:\tlearn: 0.4217889\ttotal: 2.01s\tremaining: 551ms\n",
      "785:\tlearn: 0.4216156\ttotal: 2.01s\tremaining: 548ms\n",
      "786:\tlearn: 0.4214610\ttotal: 2.02s\tremaining: 546ms\n",
      "787:\tlearn: 0.4211641\ttotal: 2.02s\tremaining: 543ms\n",
      "788:\tlearn: 0.4211481\ttotal: 2.02s\tremaining: 541ms\n",
      "789:\tlearn: 0.4211418\ttotal: 2.02s\tremaining: 538ms\n",
      "790:\tlearn: 0.4209097\ttotal: 2.03s\tremaining: 535ms\n",
      "791:\tlearn: 0.4206675\ttotal: 2.03s\tremaining: 533ms\n",
      "792:\tlearn: 0.4206417\ttotal: 2.03s\tremaining: 530ms\n",
      "793:\tlearn: 0.4204481\ttotal: 2.03s\tremaining: 528ms\n",
      "794:\tlearn: 0.4202240\ttotal: 2.04s\tremaining: 525ms\n",
      "795:\tlearn: 0.4200198\ttotal: 2.04s\tremaining: 522ms\n",
      "796:\tlearn: 0.4199865\ttotal: 2.04s\tremaining: 520ms\n",
      "797:\tlearn: 0.4198876\ttotal: 2.04s\tremaining: 517ms\n",
      "798:\tlearn: 0.4198725\ttotal: 2.05s\tremaining: 515ms\n",
      "799:\tlearn: 0.4197274\ttotal: 2.05s\tremaining: 512ms\n",
      "800:\tlearn: 0.4196621\ttotal: 2.05s\tremaining: 510ms\n",
      "801:\tlearn: 0.4195585\ttotal: 2.05s\tremaining: 507ms\n",
      "802:\tlearn: 0.4194445\ttotal: 2.06s\tremaining: 504ms\n",
      "803:\tlearn: 0.4193880\ttotal: 2.06s\tremaining: 502ms\n",
      "804:\tlearn: 0.4192706\ttotal: 2.06s\tremaining: 499ms\n",
      "805:\tlearn: 0.4192482\ttotal: 2.06s\tremaining: 497ms\n",
      "806:\tlearn: 0.4191068\ttotal: 2.06s\tremaining: 494ms\n",
      "807:\tlearn: 0.4190327\ttotal: 2.07s\tremaining: 491ms\n",
      "808:\tlearn: 0.4187461\ttotal: 2.07s\tremaining: 489ms\n",
      "809:\tlearn: 0.4187396\ttotal: 2.07s\tremaining: 486ms\n",
      "810:\tlearn: 0.4185957\ttotal: 2.07s\tremaining: 483ms\n",
      "811:\tlearn: 0.4185045\ttotal: 2.08s\tremaining: 481ms\n",
      "812:\tlearn: 0.4184329\ttotal: 2.08s\tremaining: 479ms\n",
      "813:\tlearn: 0.4184014\ttotal: 2.08s\tremaining: 476ms\n",
      "814:\tlearn: 0.4183074\ttotal: 2.08s\tremaining: 473ms\n",
      "815:\tlearn: 0.4182824\ttotal: 2.09s\tremaining: 471ms\n",
      "816:\tlearn: 0.4182349\ttotal: 2.09s\tremaining: 469ms\n",
      "817:\tlearn: 0.4182299\ttotal: 2.09s\tremaining: 466ms\n",
      "818:\tlearn: 0.4180576\ttotal: 2.1s\tremaining: 463ms\n",
      "819:\tlearn: 0.4178887\ttotal: 2.1s\tremaining: 461ms\n",
      "820:\tlearn: 0.4178335\ttotal: 2.1s\tremaining: 458ms\n",
      "821:\tlearn: 0.4178273\ttotal: 2.1s\tremaining: 456ms\n",
      "822:\tlearn: 0.4176010\ttotal: 2.11s\tremaining: 453ms\n",
      "823:\tlearn: 0.4175159\ttotal: 2.11s\tremaining: 451ms\n",
      "824:\tlearn: 0.4173183\ttotal: 2.11s\tremaining: 448ms\n",
      "825:\tlearn: 0.4172866\ttotal: 2.11s\tremaining: 445ms\n",
      "826:\tlearn: 0.4172528\ttotal: 2.12s\tremaining: 443ms\n",
      "827:\tlearn: 0.4172518\ttotal: 2.12s\tremaining: 440ms\n",
      "828:\tlearn: 0.4170707\ttotal: 2.12s\tremaining: 438ms\n",
      "829:\tlearn: 0.4169676\ttotal: 2.13s\tremaining: 435ms\n",
      "830:\tlearn: 0.4168376\ttotal: 2.13s\tremaining: 433ms\n",
      "831:\tlearn: 0.4167576\ttotal: 2.13s\tremaining: 430ms\n",
      "832:\tlearn: 0.4166407\ttotal: 2.13s\tremaining: 428ms\n",
      "833:\tlearn: 0.4166324\ttotal: 2.14s\tremaining: 426ms\n",
      "834:\tlearn: 0.4164515\ttotal: 2.14s\tremaining: 423ms\n",
      "835:\tlearn: 0.4163842\ttotal: 2.14s\tremaining: 421ms\n",
      "836:\tlearn: 0.4162044\ttotal: 2.15s\tremaining: 418ms\n",
      "837:\tlearn: 0.4160393\ttotal: 2.15s\tremaining: 415ms\n",
      "838:\tlearn: 0.4159494\ttotal: 2.15s\tremaining: 413ms\n",
      "839:\tlearn: 0.4158646\ttotal: 2.15s\tremaining: 410ms\n",
      "840:\tlearn: 0.4157791\ttotal: 2.16s\tremaining: 408ms\n",
      "841:\tlearn: 0.4157451\ttotal: 2.16s\tremaining: 405ms\n",
      "842:\tlearn: 0.4155750\ttotal: 2.16s\tremaining: 403ms\n",
      "843:\tlearn: 0.4155577\ttotal: 2.17s\tremaining: 400ms\n",
      "844:\tlearn: 0.4153382\ttotal: 2.17s\tremaining: 398ms\n",
      "845:\tlearn: 0.4153046\ttotal: 2.17s\tremaining: 395ms\n",
      "846:\tlearn: 0.4150055\ttotal: 2.17s\tremaining: 393ms\n",
      "847:\tlearn: 0.4148469\ttotal: 2.17s\tremaining: 390ms\n",
      "848:\tlearn: 0.4147297\ttotal: 2.18s\tremaining: 387ms\n",
      "849:\tlearn: 0.4147239\ttotal: 2.18s\tremaining: 385ms\n",
      "850:\tlearn: 0.4146571\ttotal: 2.18s\tremaining: 382ms\n",
      "851:\tlearn: 0.4144564\ttotal: 2.19s\tremaining: 380ms\n",
      "852:\tlearn: 0.4143604\ttotal: 2.19s\tremaining: 377ms\n",
      "853:\tlearn: 0.4141956\ttotal: 2.19s\tremaining: 375ms\n",
      "854:\tlearn: 0.4141823\ttotal: 2.19s\tremaining: 372ms\n",
      "855:\tlearn: 0.4141581\ttotal: 2.19s\tremaining: 369ms\n",
      "856:\tlearn: 0.4140150\ttotal: 2.2s\tremaining: 367ms\n",
      "857:\tlearn: 0.4138629\ttotal: 2.2s\tremaining: 364ms\n",
      "858:\tlearn: 0.4136643\ttotal: 2.2s\tremaining: 362ms\n",
      "859:\tlearn: 0.4135316\ttotal: 2.21s\tremaining: 359ms\n",
      "860:\tlearn: 0.4134131\ttotal: 2.21s\tremaining: 357ms\n",
      "861:\tlearn: 0.4133222\ttotal: 2.21s\tremaining: 354ms\n",
      "862:\tlearn: 0.4132507\ttotal: 2.21s\tremaining: 352ms\n",
      "863:\tlearn: 0.4131362\ttotal: 2.22s\tremaining: 349ms\n",
      "864:\tlearn: 0.4130628\ttotal: 2.22s\tremaining: 347ms\n",
      "865:\tlearn: 0.4130435\ttotal: 2.22s\tremaining: 344ms\n",
      "866:\tlearn: 0.4130097\ttotal: 2.23s\tremaining: 342ms\n",
      "867:\tlearn: 0.4128910\ttotal: 2.23s\tremaining: 339ms\n",
      "868:\tlearn: 0.4128216\ttotal: 2.23s\tremaining: 337ms\n",
      "869:\tlearn: 0.4126571\ttotal: 2.23s\tremaining: 334ms\n",
      "870:\tlearn: 0.4124951\ttotal: 2.24s\tremaining: 331ms\n",
      "871:\tlearn: 0.4124033\ttotal: 2.24s\tremaining: 329ms\n",
      "872:\tlearn: 0.4123261\ttotal: 2.24s\tremaining: 326ms\n",
      "873:\tlearn: 0.4121368\ttotal: 2.25s\tremaining: 324ms\n",
      "874:\tlearn: 0.4120658\ttotal: 2.25s\tremaining: 321ms\n",
      "875:\tlearn: 0.4119470\ttotal: 2.25s\tremaining: 319ms\n",
      "876:\tlearn: 0.4117578\ttotal: 2.25s\tremaining: 316ms\n",
      "877:\tlearn: 0.4116984\ttotal: 2.25s\tremaining: 313ms\n",
      "878:\tlearn: 0.4116103\ttotal: 2.26s\tremaining: 311ms\n",
      "879:\tlearn: 0.4115452\ttotal: 2.26s\tremaining: 308ms\n",
      "880:\tlearn: 0.4114399\ttotal: 2.26s\tremaining: 306ms\n",
      "881:\tlearn: 0.4113253\ttotal: 2.27s\tremaining: 303ms\n",
      "882:\tlearn: 0.4111179\ttotal: 2.27s\tremaining: 300ms\n",
      "883:\tlearn: 0.4109966\ttotal: 2.27s\tremaining: 298ms\n",
      "884:\tlearn: 0.4109225\ttotal: 2.27s\tremaining: 295ms\n",
      "885:\tlearn: 0.4108606\ttotal: 2.27s\tremaining: 293ms\n",
      "886:\tlearn: 0.4107434\ttotal: 2.28s\tremaining: 290ms\n",
      "887:\tlearn: 0.4105138\ttotal: 2.28s\tremaining: 288ms\n",
      "888:\tlearn: 0.4103665\ttotal: 2.28s\tremaining: 285ms\n",
      "889:\tlearn: 0.4101487\ttotal: 2.28s\tremaining: 282ms\n",
      "890:\tlearn: 0.4100537\ttotal: 2.29s\tremaining: 280ms\n",
      "891:\tlearn: 0.4099610\ttotal: 2.29s\tremaining: 277ms\n",
      "892:\tlearn: 0.4097635\ttotal: 2.29s\tremaining: 275ms\n",
      "893:\tlearn: 0.4096849\ttotal: 2.3s\tremaining: 272ms\n",
      "894:\tlearn: 0.4096290\ttotal: 2.3s\tremaining: 270ms\n",
      "895:\tlearn: 0.4095136\ttotal: 2.3s\tremaining: 267ms\n",
      "896:\tlearn: 0.4093021\ttotal: 2.31s\tremaining: 265ms\n",
      "897:\tlearn: 0.4092940\ttotal: 2.31s\tremaining: 262ms\n",
      "898:\tlearn: 0.4091101\ttotal: 2.31s\tremaining: 260ms\n",
      "899:\tlearn: 0.4087709\ttotal: 2.31s\tremaining: 257ms\n",
      "900:\tlearn: 0.4086716\ttotal: 2.32s\tremaining: 255ms\n",
      "901:\tlearn: 0.4086665\ttotal: 2.32s\tremaining: 252ms\n",
      "902:\tlearn: 0.4086383\ttotal: 2.32s\tremaining: 249ms\n",
      "903:\tlearn: 0.4085565\ttotal: 2.33s\tremaining: 247ms\n",
      "904:\tlearn: 0.4084002\ttotal: 2.33s\tremaining: 245ms\n",
      "905:\tlearn: 0.4082547\ttotal: 2.33s\tremaining: 242ms\n",
      "906:\tlearn: 0.4081865\ttotal: 2.33s\tremaining: 239ms\n",
      "907:\tlearn: 0.4079467\ttotal: 2.34s\tremaining: 237ms\n",
      "908:\tlearn: 0.4077117\ttotal: 2.34s\tremaining: 234ms\n",
      "909:\tlearn: 0.4077070\ttotal: 2.35s\tremaining: 232ms\n",
      "910:\tlearn: 0.4076563\ttotal: 2.35s\tremaining: 229ms\n",
      "911:\tlearn: 0.4075313\ttotal: 2.35s\tremaining: 227ms\n",
      "912:\tlearn: 0.4074722\ttotal: 2.35s\tremaining: 224ms\n",
      "913:\tlearn: 0.4074499\ttotal: 2.36s\tremaining: 222ms\n"
     ]
    },
    {
     "name": "stdout",
     "output_type": "stream",
     "text": [
      "914:\tlearn: 0.4072654\ttotal: 2.36s\tremaining: 219ms\n",
      "915:\tlearn: 0.4072357\ttotal: 2.36s\tremaining: 217ms\n",
      "916:\tlearn: 0.4070926\ttotal: 2.36s\tremaining: 214ms\n",
      "917:\tlearn: 0.4070209\ttotal: 2.37s\tremaining: 211ms\n",
      "918:\tlearn: 0.4069820\ttotal: 2.37s\tremaining: 209ms\n",
      "919:\tlearn: 0.4068667\ttotal: 2.37s\tremaining: 206ms\n",
      "920:\tlearn: 0.4068289\ttotal: 2.38s\tremaining: 204ms\n",
      "921:\tlearn: 0.4067341\ttotal: 2.38s\tremaining: 201ms\n",
      "922:\tlearn: 0.4065894\ttotal: 2.38s\tremaining: 199ms\n",
      "923:\tlearn: 0.4064286\ttotal: 2.39s\tremaining: 196ms\n",
      "924:\tlearn: 0.4064278\ttotal: 2.39s\tremaining: 194ms\n",
      "925:\tlearn: 0.4063342\ttotal: 2.39s\tremaining: 191ms\n",
      "926:\tlearn: 0.4062606\ttotal: 2.4s\tremaining: 189ms\n",
      "927:\tlearn: 0.4061754\ttotal: 2.4s\tremaining: 186ms\n",
      "928:\tlearn: 0.4060492\ttotal: 2.4s\tremaining: 184ms\n",
      "929:\tlearn: 0.4060090\ttotal: 2.41s\tremaining: 181ms\n",
      "930:\tlearn: 0.4059671\ttotal: 2.41s\tremaining: 179ms\n",
      "931:\tlearn: 0.4058540\ttotal: 2.41s\tremaining: 176ms\n",
      "932:\tlearn: 0.4055985\ttotal: 2.41s\tremaining: 173ms\n",
      "933:\tlearn: 0.4053766\ttotal: 2.42s\tremaining: 171ms\n",
      "934:\tlearn: 0.4053167\ttotal: 2.42s\tremaining: 168ms\n",
      "935:\tlearn: 0.4052403\ttotal: 2.42s\tremaining: 166ms\n",
      "936:\tlearn: 0.4051978\ttotal: 2.43s\tremaining: 163ms\n",
      "937:\tlearn: 0.4051306\ttotal: 2.43s\tremaining: 161ms\n",
      "938:\tlearn: 0.4049526\ttotal: 2.44s\tremaining: 158ms\n",
      "939:\tlearn: 0.4049115\ttotal: 2.44s\tremaining: 156ms\n",
      "940:\tlearn: 0.4049069\ttotal: 2.44s\tremaining: 153ms\n",
      "941:\tlearn: 0.4046960\ttotal: 2.44s\tremaining: 151ms\n",
      "942:\tlearn: 0.4045899\ttotal: 2.45s\tremaining: 148ms\n",
      "943:\tlearn: 0.4045031\ttotal: 2.45s\tremaining: 145ms\n",
      "944:\tlearn: 0.4044096\ttotal: 2.45s\tremaining: 143ms\n",
      "945:\tlearn: 0.4043105\ttotal: 2.46s\tremaining: 140ms\n",
      "946:\tlearn: 0.4043068\ttotal: 2.46s\tremaining: 138ms\n",
      "947:\tlearn: 0.4042453\ttotal: 2.46s\tremaining: 135ms\n",
      "948:\tlearn: 0.4040969\ttotal: 2.46s\tremaining: 132ms\n",
      "949:\tlearn: 0.4040071\ttotal: 2.47s\tremaining: 130ms\n",
      "950:\tlearn: 0.4038505\ttotal: 2.47s\tremaining: 127ms\n",
      "951:\tlearn: 0.4038132\ttotal: 2.47s\tremaining: 125ms\n",
      "952:\tlearn: 0.4036766\ttotal: 2.48s\tremaining: 122ms\n",
      "953:\tlearn: 0.4035959\ttotal: 2.48s\tremaining: 120ms\n",
      "954:\tlearn: 0.4034945\ttotal: 2.48s\tremaining: 117ms\n",
      "955:\tlearn: 0.4033235\ttotal: 2.48s\tremaining: 114ms\n",
      "956:\tlearn: 0.4032212\ttotal: 2.48s\tremaining: 112ms\n",
      "957:\tlearn: 0.4031238\ttotal: 2.49s\tremaining: 109ms\n",
      "958:\tlearn: 0.4030718\ttotal: 2.49s\tremaining: 106ms\n",
      "959:\tlearn: 0.4029941\ttotal: 2.49s\tremaining: 104ms\n",
      "960:\tlearn: 0.4028556\ttotal: 2.5s\tremaining: 101ms\n",
      "961:\tlearn: 0.4027263\ttotal: 2.5s\tremaining: 98.7ms\n",
      "962:\tlearn: 0.4026767\ttotal: 2.5s\tremaining: 96.1ms\n",
      "963:\tlearn: 0.4025013\ttotal: 2.5s\tremaining: 93.5ms\n",
      "964:\tlearn: 0.4024503\ttotal: 2.51s\tremaining: 90.9ms\n",
      "965:\tlearn: 0.4023175\ttotal: 2.51s\tremaining: 88.3ms\n",
      "966:\tlearn: 0.4023017\ttotal: 2.51s\tremaining: 85.7ms\n",
      "967:\tlearn: 0.4021331\ttotal: 2.52s\tremaining: 83.1ms\n",
      "968:\tlearn: 0.4020277\ttotal: 2.52s\tremaining: 80.5ms\n",
      "969:\tlearn: 0.4019132\ttotal: 2.52s\tremaining: 77.9ms\n",
      "970:\tlearn: 0.4018192\ttotal: 2.52s\tremaining: 75.4ms\n",
      "971:\tlearn: 0.4015535\ttotal: 2.53s\tremaining: 72.8ms\n",
      "972:\tlearn: 0.4014230\ttotal: 2.53s\tremaining: 70.2ms\n",
      "973:\tlearn: 0.4014215\ttotal: 2.53s\tremaining: 67.6ms\n",
      "974:\tlearn: 0.4013120\ttotal: 2.53s\tremaining: 65ms\n",
      "975:\tlearn: 0.4011759\ttotal: 2.54s\tremaining: 62.4ms\n",
      "976:\tlearn: 0.4010259\ttotal: 2.54s\tremaining: 59.8ms\n",
      "977:\tlearn: 0.4009283\ttotal: 2.54s\tremaining: 57.2ms\n",
      "978:\tlearn: 0.4006732\ttotal: 2.54s\tremaining: 54.6ms\n",
      "979:\tlearn: 0.4005180\ttotal: 2.55s\tremaining: 52ms\n",
      "980:\tlearn: 0.4003350\ttotal: 2.55s\tremaining: 49.4ms\n",
      "981:\tlearn: 0.4002706\ttotal: 2.55s\tremaining: 46.8ms\n",
      "982:\tlearn: 0.4002066\ttotal: 2.56s\tremaining: 44.2ms\n",
      "983:\tlearn: 0.4001404\ttotal: 2.56s\tremaining: 41.6ms\n",
      "984:\tlearn: 0.4000038\ttotal: 2.56s\tremaining: 39ms\n",
      "985:\tlearn: 0.3999583\ttotal: 2.56s\tremaining: 36.4ms\n",
      "986:\tlearn: 0.3999039\ttotal: 2.57s\tremaining: 33.8ms\n",
      "987:\tlearn: 0.3998754\ttotal: 2.57s\tremaining: 31.2ms\n",
      "988:\tlearn: 0.3996481\ttotal: 2.57s\tremaining: 28.6ms\n",
      "989:\tlearn: 0.3995763\ttotal: 2.58s\tremaining: 26ms\n",
      "990:\tlearn: 0.3994627\ttotal: 2.58s\tremaining: 23.4ms\n",
      "991:\tlearn: 0.3994383\ttotal: 2.58s\tremaining: 20.8ms\n",
      "992:\tlearn: 0.3993018\ttotal: 2.58s\tremaining: 18.2ms\n",
      "993:\tlearn: 0.3991640\ttotal: 2.59s\tremaining: 15.6ms\n",
      "994:\tlearn: 0.3990164\ttotal: 2.59s\tremaining: 13ms\n",
      "995:\tlearn: 0.3989763\ttotal: 2.59s\tremaining: 10.4ms\n",
      "996:\tlearn: 0.3987223\ttotal: 2.6s\tremaining: 7.81ms\n",
      "997:\tlearn: 0.3985130\ttotal: 2.6s\tremaining: 5.21ms\n",
      "998:\tlearn: 0.3984476\ttotal: 2.6s\tremaining: 2.6ms\n",
      "999:\tlearn: 0.3984144\ttotal: 2.6s\tremaining: 0us\n"
     ]
    },
    {
     "data": {
      "text/plain": [
       "0.7559681697612732"
      ]
     },
     "execution_count": 51,
     "metadata": {},
     "output_type": "execute_result"
    }
   ],
   "source": [
    "cb_def = catboost.CatBoostClassifier( cat_features=list(X_train.columns), verbose=True)\n",
    "cb_def.fit(X_train, y_train)\n",
    "cb_def.score(X_test, y_test)"
   ]
  },
  {
   "cell_type": "code",
   "execution_count": null,
   "metadata": {},
   "outputs": [],
   "source": [
    "# note with tuned XGBoost model, I get 0.7253814147018031"
   ]
  },
  {
   "cell_type": "code",
   "execution_count": null,
   "metadata": {},
   "outputs": [],
   "source": []
  },
  {
   "cell_type": "markdown",
   "metadata": {},
   "source": [
    "## Model Evaluation\n",
    "Now that we've tuned our model, let's look at how it performs"
   ]
  },
  {
   "cell_type": "code",
   "execution_count": null,
   "metadata": {},
   "outputs": [],
   "source": [
    "from sklearn import metrics\n",
    "metrics.accuracy_score(y_test, cb4.predict(X_test))"
   ]
  },
  {
   "cell_type": "code",
   "execution_count": null,
   "metadata": {
    "scrolled": true
   },
   "outputs": [],
   "source": [
    "metrics.precision_score(y_test, cb4.predict(X_test))"
   ]
  },
  {
   "cell_type": "code",
   "execution_count": null,
   "metadata": {},
   "outputs": [],
   "source": [
    "cb4.classes_"
   ]
  },
  {
   "cell_type": "code",
   "execution_count": null,
   "metadata": {
    "scrolled": true
   },
   "outputs": [],
   "source": [
    "metrics.precision_score(y_test, cb4.predict(X_test), pos_label='Software Engineer')"
   ]
  },
  {
   "cell_type": "code",
   "execution_count": null,
   "metadata": {
    "scrolled": true
   },
   "outputs": [],
   "source": [
    "metrics.recall_score(y_test, cb4.predict(X_test), pos_label='Software Engineer')"
   ]
  },
  {
   "cell_type": "code",
   "execution_count": null,
   "metadata": {
    "scrolled": true
   },
   "outputs": [],
   "source": [
    "metrics.f1_score(y_test, cb4.predict(X_test), pos_label='Software Engineer')"
   ]
  },
  {
   "cell_type": "code",
   "execution_count": null,
   "metadata": {},
   "outputs": [],
   "source": [
    "fig, ax = plt.subplots(figsize=(8,4))\n",
    "metrics.ConfusionMatrixDisplay.from_estimator(cb4,\n",
    "                       X_test, y_test,ax=ax)"
   ]
  },
  {
   "cell_type": "code",
   "execution_count": null,
   "metadata": {},
   "outputs": [],
   "source": [
    "fig, ax = plt.subplots(figsize=(8,4))\n",
    "metrics.RocCurveDisplay.from_estimator(cb4,\n",
    "                       X_test, y_test,ax=ax)\n"
   ]
  },
  {
   "cell_type": "code",
   "execution_count": null,
   "metadata": {},
   "outputs": [],
   "source": [
    "fig, ax = plt.subplots(figsize=(8,4))\n",
    "metrics.RocCurveDisplay.from_estimator(cb4,\n",
    "                       X_test, y_test,ax=ax)\n",
    "metrics.RocCurveDisplay.from_estimator(cb4,\n",
    "                       X_train, y_train,ax=ax)"
   ]
  },
  {
   "cell_type": "code",
   "execution_count": null,
   "metadata": {},
   "outputs": [],
   "source": [
    "fig, ax = plt.subplots(figsize=(8,4))\n",
    "metrics.RocCurveDisplay.from_estimator(stump,\n",
    "                       X_test, y_test,ax=ax)\n",
    "metrics.RocCurveDisplay.from_estimator(stump,\n",
    "                       X_train, y_train,ax=ax)"
   ]
  },
  {
   "cell_type": "code",
   "execution_count": null,
   "metadata": {},
   "outputs": [],
   "source": [
    "fig, ax = plt.subplots(figsize=(8,4))\n",
    "metrics.RocCurveDisplay.from_estimator(hi_variance,\n",
    "                       X_test, y_test,ax=ax)\n",
    "metrics.RocCurveDisplay.from_estimator(hi_variance,\n",
    "                       X_train, y_train,ax=ax)"
   ]
  },
  {
   "cell_type": "code",
   "execution_count": null,
   "metadata": {},
   "outputs": [],
   "source": [
    "fig, ax = plt.subplots(figsize=(8,4))\n",
    "metrics.PrecisionRecallDisplay.from_estimator(cb4,\n",
    "                       X_test, y_test,ax=ax)\n",
    "metrics.PrecisionRecallDisplay.from_estimator(cb4,\n",
    "                       X_train, y_train,ax=ax)"
   ]
  },
  {
   "cell_type": "code",
   "execution_count": null,
   "metadata": {},
   "outputs": [],
   "source": []
  },
  {
   "cell_type": "code",
   "execution_count": null,
   "metadata": {},
   "outputs": [],
   "source": []
  },
  {
   "cell_type": "code",
   "execution_count": null,
   "metadata": {},
   "outputs": [],
   "source": []
  },
  {
   "cell_type": "markdown",
   "metadata": {},
   "source": [
    "## Tuning\n",
    "\n",
    "Tune for differeent metrics"
   ]
  },
  {
   "cell_type": "code",
   "execution_count": null,
   "metadata": {
    "scrolled": true
   },
   "outputs": [],
   "source": [
    "# takes about 45 seconds to run\n",
    "import matplotlib.pyplot as plt\n",
    "from yellowbrick import model_selection as ms\n",
    "from yellowbrick.utils import types, helpers\n",
    "from yellowbrick import base\n",
    "\n",
    "base.get_model_name = lambda model: 'CatBoost'\n",
    "#helpers.is_esitmator = lambda model: print(f'calling {model=}') or True\n",
    "\n",
    "fig, ax = plt.subplots(figsize=(8,4))\n",
    "ms.validation_curve(catboost.CatBoostClassifier(cat_features=list(X_train.columns), verbose=False),\n",
    "                    X, y, param_name='depth', param_range=range(1,6))\n",
    "            "
   ]
  },
  {
   "cell_type": "code",
   "execution_count": null,
   "metadata": {
    "scrolled": true
   },
   "outputs": [],
   "source": [
    "fig, ax = plt.subplots(figsize=(8,4))\n",
    "ms.validation_curve(catboost.CatBoostClassifier(cat_features=list(X_train.columns), verbose=False),\n",
    "                    X, y, param_name='depth', param_range=range(1,6),\n",
    "                    scoring='recall', pos_label='Software Engineer')\n",
    "            "
   ]
  },
  {
   "cell_type": "code",
   "execution_count": null,
   "metadata": {
    "scrolled": true
   },
   "outputs": [],
   "source": [
    "fig, ax = plt.subplots(figsize=(8,4))\n",
    "ms.validation_curve(catboost.CatBoostClassifier(cat_features=list(X_train.columns), verbose=False),\n",
    "                    X, y=='Software Engineer', param_name='depth', param_range=range(1,6),\n",
    "                    scoring='recall')\n",
    "            "
   ]
  },
  {
   "cell_type": "code",
   "execution_count": null,
   "metadata": {
    "scrolled": true
   },
   "outputs": [],
   "source": [
    "fig, ax = plt.subplots(figsize=(8,4))\n",
    "ms.validation_curve(catboost.CatBoostClassifier(cat_features=list(X_train.columns), verbose=False),\n",
    "                    X, y=='Software Engineer', param_name='depth', param_range=range(1,6),\n",
    "                    scoring='precision')\n",
    "            "
   ]
  },
  {
   "cell_type": "code",
   "execution_count": null,
   "metadata": {},
   "outputs": [],
   "source": []
  },
  {
   "cell_type": "markdown",
   "metadata": {},
   "source": [
    "## Model Interpretation"
   ]
  },
  {
   "cell_type": "code",
   "execution_count": null,
   "metadata": {},
   "outputs": [],
   "source": [
    "params = {'bagging_temperature': 0,\n",
    " 'l2_leaf_reg': 2,\n",
    " 'learning_rate': 0.1,\n",
    " 'n_estimators': 200,\n",
    " 'one_hot_max_size': 1,\n",
    " 'random_strength': 0.5}\n",
    "cb4 = catboost.CatBoostClassifier(**params, cat_features=list(X_train.columns), verbose=False)\n",
    "cb4.fit(X_train, y_train)\n",
    "cb4.score(X_test, y_test)"
   ]
  },
  {
   "cell_type": "code",
   "execution_count": null,
   "metadata": {},
   "outputs": [],
   "source": [
    "cb4.feature_importances_"
   ]
  },
  {
   "cell_type": "code",
   "execution_count": null,
   "metadata": {},
   "outputs": [],
   "source": [
    "pd.Series(cb4.feature_importances_, index=X_train.columns)"
   ]
  },
  {
   "cell_type": "code",
   "execution_count": null,
   "metadata": {},
   "outputs": [],
   "source": [
    "(pd.Series(cb4.feature_importances_, index=X_train.columns)\n",
    " .sort_values()\n",
    " .plot.barh()\n",
    ")"
   ]
  },
  {
   "cell_type": "code",
   "execution_count": null,
   "metadata": {
    "scrolled": true
   },
   "outputs": [],
   "source": [
    "def add_ranks(df_):\n",
    "    return (df_\n",
    "            .assign(**{f'{col}_rank':df_[col].rank(ascending=False) for col in \n",
    "                     df_.columns})\n",
    "           )\n",
    "    \n",
    "pool = catboost.Pool(X_train, y_train, cat_features=list(X_train.columns))\n",
    "(pd.DataFrame({typ:cb4.get_feature_importance(type=typ, data=pool)\n",
    "             for typ in ['PredictionValuesChange',\n",
    "                        'LossFunctionChange',\n",
    "                'FeatureImportance', \n",
    "                         #'ShapValues',\n",
    "        #'ShapInteractionValues',\n",
    "        #'Interaction',\n",
    "        #'PredictionDiff',\n",
    "        #'SageValues'\n",
    "                        ]},\n",
    "            index=X_train.columns)\n",
    " .pipe(add_ranks)\n",
    " .sort_values(by='FeatureImportance_rank')\n",
    " .loc[:, 'PredictionValuesChange_rank':]\n",
    " .plot.barh()\n",
    ")"
   ]
  },
  {
   "cell_type": "code",
   "execution_count": null,
   "metadata": {},
   "outputs": [],
   "source": []
  },
  {
   "cell_type": "code",
   "execution_count": null,
   "metadata": {},
   "outputs": [],
   "source": []
  },
  {
   "cell_type": "markdown",
   "metadata": {},
   "source": [
    "## SHAP (SHapley Additive exPlantations)\n",
    "Should be *globally* consistent and accurate\n",
    "\n",
    " Shapley value (SHAP).\n",
    " \n",
    " From game theory, indicates how to distribute attribution of label\n",
    "\n"
   ]
  },
  {
   "cell_type": "code",
   "execution_count": null,
   "metadata": {},
   "outputs": [],
   "source": [
    "import shap\n",
    "shap.initjs()\n",
    "\n",
    "# make sure you initialize the js side\n",
    "shap_ex = shap.TreeExplainer(cb4)\n",
    "vals = shap_ex(X_test)"
   ]
  },
  {
   "cell_type": "code",
   "execution_count": null,
   "metadata": {
    "scrolled": true
   },
   "outputs": [],
   "source": [
    "vals"
   ]
  },
  {
   "cell_type": "code",
   "execution_count": null,
   "metadata": {},
   "outputs": [],
   "source": [
    "shap.plots.beeswarm(vals, alpha=.5)"
   ]
  },
  {
   "cell_type": "code",
   "execution_count": null,
   "metadata": {
    "scrolled": true
   },
   "outputs": [],
   "source": [
    "# specify interaction\n",
    "fig, ax = plt.subplots(figsize=(8,3))\n",
    "shap.plots.scatter(vals[:,'major'])#, color=vals[:, 'education'], ax=ax, x_jitter=.5, alpha=.5)  "
   ]
  },
  {
   "cell_type": "code",
   "execution_count": null,
   "metadata": {},
   "outputs": [],
   "source": [
    "# shap doesn't like categories 😭\n",
    "import seaborn as sns\n",
    "\n",
    "(pd.DataFrame(vals.values, columns=X_test.columns, index=X_test.index)\n",
    " .rename(columns=lambda col: f'{col}_shap')\n",
    " .assign(base_values=vals.base_values, **X_test)\n",
    " .pipe(lambda df_:\n",
    "       sns.catplot(y='major', x='major_shap', data=df_, \n",
    "                   aspect=2, height=10,\n",
    "                   #hue='education'\n",
    "                  )\n",
    "      )\n",
    ")"
   ]
  },
  {
   "cell_type": "code",
   "execution_count": null,
   "metadata": {},
   "outputs": [],
   "source": [
    "# shap doesn't like categories 😭\n",
    "import seaborn as sns\n",
    "\n",
    "(pd.DataFrame(vals.values, columns=X_test.columns, index=X_test.index)\n",
    " .rename(columns=lambda col: f'{col}_shap')\n",
    " .assign(base_values=vals.base_values, **X_test)\n",
    " .pipe(lambda df_:\n",
    "       sns.catplot(y='r', x='r_shap', data=df_, \n",
    "                   aspect=2, height=10,\n",
    "                   #hue='education'\n",
    "                  )\n",
    "      )\n",
    ")"
   ]
  },
  {
   "cell_type": "code",
   "execution_count": null,
   "metadata": {
    "scrolled": true
   },
   "outputs": [],
   "source": [
    "# shap doesn't like categories 😭\n",
    "import seaborn as sns\n",
    "\n",
    "(pd.DataFrame(vals.values, columns=X_test.columns, index=X_test.index)\n",
    " .rename(columns=lambda col: f'{col}_shap')\n",
    " .assign(base_values=vals.base_values, **X_test)\n",
    " .pipe(lambda df_:\n",
    "       sns.catplot(y='education', x='education_shap', data=df_, \n",
    "                   aspect=2, height=10,\n",
    "                   hue='r'\n",
    "                  )\n",
    "      )\n",
    ")"
   ]
  },
  {
   "cell_type": "code",
   "execution_count": null,
   "metadata": {},
   "outputs": [],
   "source": []
  },
  {
   "cell_type": "code",
   "execution_count": null,
   "metadata": {
    "scrolled": true
   },
   "outputs": [],
   "source": [
    "# blue - DS\n",
    "# red - SE\n",
    "\n",
    "shap.initjs()\n",
    "shap.plots.waterfall(vals[0])"
   ]
  },
  {
   "cell_type": "code",
   "execution_count": null,
   "metadata": {},
   "outputs": [],
   "source": [
    "cb4.predict(X_test.iloc[[0]])"
   ]
  },
  {
   "cell_type": "code",
   "execution_count": null,
   "metadata": {},
   "outputs": [],
   "source": [
    "X_test.iloc[[0]]"
   ]
  },
  {
   "cell_type": "code",
   "execution_count": null,
   "metadata": {},
   "outputs": [],
   "source": []
  },
  {
   "cell_type": "code",
   "execution_count": null,
   "metadata": {},
   "outputs": [],
   "source": []
  },
  {
   "cell_type": "code",
   "execution_count": null,
   "metadata": {},
   "outputs": [],
   "source": []
  },
  {
   "cell_type": "code",
   "execution_count": null,
   "metadata": {},
   "outputs": [],
   "source": []
  },
  {
   "cell_type": "markdown",
   "metadata": {},
   "source": [
    "# Summary\n",
    "\n",
    "CatBoost is very powerful.\n",
    "\n",
    "Explore your data and your results.\n",
    "\n",
    "Suggestions:\n",
    "\n",
    "* Pandas skills come in useful for manipulating data\n",
    "* Make sure you discuss business value with stake holders\n",
    "\n",
    "\n",
    "Questions?\n",
    "\n",
    "\n",
    "Connect on LinkedIn or Twitter `@__mharrison__`"
   ]
  },
  {
   "cell_type": "code",
   "execution_count": null,
   "metadata": {},
   "outputs": [],
   "source": [
    "import random\n",
    "random.randrange(0,12)"
   ]
  },
  {
   "cell_type": "code",
   "execution_count": null,
   "metadata": {},
   "outputs": [],
   "source": [
    "random.randrange(0,4)"
   ]
  },
  {
   "cell_type": "code",
   "execution_count": null,
   "metadata": {},
   "outputs": [],
   "source": []
  },
  {
   "cell_type": "code",
   "execution_count": null,
   "metadata": {},
   "outputs": [],
   "source": []
  }
 ],
 "metadata": {
  "kernelspec": {
   "display_name": "Python 3 (ipykernel)",
   "language": "python",
   "name": "python3"
  },
  "language_info": {
   "codemirror_mode": {
    "name": "ipython",
    "version": 3
   },
   "file_extension": ".py",
   "mimetype": "text/x-python",
   "name": "python",
   "nbconvert_exporter": "python",
   "pygments_lexer": "ipython3",
   "version": "3.12.5"
  }
 },
 "nbformat": 4,
 "nbformat_minor": 4
}
