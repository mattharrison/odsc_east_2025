{
 "cells": [
  {
   "cell_type": "markdown",
   "metadata": {
    "lines_to_next_cell": 0,
    "pycharm": {
     "name": "#%% md\n"
    }
   },
   "source": [
    "# Idiomatic Polars \n",
    "\n",
    "## Matt Harrison - ODSC 2025\n",
    "\n",
    "## https://github.com/mattharrison/odsc_east_2025\n",
    "\n",
    "\n",
    "\n",
    "<!-- https://github.com/mattharrison/talks>"
   ]
  },
  {
   "cell_type": "code",
   "execution_count": null,
   "metadata": {},
   "outputs": [],
   "source": []
  },
  {
   "cell_type": "code",
   "execution_count": null,
   "metadata": {},
   "outputs": [],
   "source": []
  },
  {
   "cell_type": "code",
   "execution_count": null,
   "metadata": {},
   "outputs": [],
   "source": []
  },
  {
   "cell_type": "code",
   "execution_count": null,
   "metadata": {},
   "outputs": [],
   "source": []
  },
  {
   "cell_type": "code",
   "execution_count": null,
   "metadata": {},
   "outputs": [],
   "source": []
  },
  {
   "cell_type": "code",
   "execution_count": null,
   "metadata": {},
   "outputs": [],
   "source": []
  },
  {
   "cell_type": "code",
   "execution_count": null,
   "metadata": {},
   "outputs": [],
   "source": []
  },
  {
   "cell_type": "code",
   "execution_count": null,
   "metadata": {},
   "outputs": [],
   "source": []
  },
  {
   "cell_type": "code",
   "execution_count": null,
   "metadata": {},
   "outputs": [],
   "source": []
  },
  {
   "cell_type": "code",
   "execution_count": null,
   "metadata": {
    "lines_to_next_cell": 2
   },
   "outputs": [],
   "source": []
  },
  {
   "cell_type": "markdown",
   "metadata": {
    "lines_to_next_cell": 0,
    "pycharm": {
     "name": "#%% md\n"
    }
   },
   "source": [
    "## About Matt  Harrison @\\_\\_mharrison\\_\\_\n",
    "\n",
    "* Author of *Effective Polars*, *Effective Pandas*, *Effective XGBoost*, *Learning Python for Data*, *Machine Learning Pocket Reference*, and *Illustrated Guide to Python 3*\n",
    "* Advisor and consultant.\n",
    "* Corporate trainer at MetaSnake. Taught Pandas to 1000's of students.\n"
   ]
  },
  {
   "cell_type": "code",
   "execution_count": null,
   "metadata": {},
   "outputs": [],
   "source": []
  },
  {
   "cell_type": "code",
   "execution_count": null,
   "metadata": {},
   "outputs": [],
   "source": []
  },
  {
   "cell_type": "code",
   "execution_count": null,
   "metadata": {},
   "outputs": [],
   "source": []
  },
  {
   "cell_type": "code",
   "execution_count": null,
   "metadata": {
    "lines_to_next_cell": 2
   },
   "outputs": [],
   "source": []
  },
  {
   "cell_type": "code",
   "execution_count": null,
   "metadata": {
    "lines_to_next_cell": 2,
    "pycharm": {
     "name": "#%%\n"
    }
   },
   "outputs": [],
   "source": []
  },
  {
   "cell_type": "code",
   "execution_count": null,
   "metadata": {
    "lines_to_next_cell": 2,
    "pycharm": {
     "name": "#%%\n"
    }
   },
   "outputs": [],
   "source": []
  },
  {
   "cell_type": "code",
   "execution_count": null,
   "metadata": {
    "lines_to_next_cell": 2,
    "pycharm": {
     "name": "#%%\n"
    }
   },
   "outputs": [],
   "source": []
  },
  {
   "cell_type": "code",
   "execution_count": null,
   "metadata": {
    "lines_to_next_cell": 2,
    "pycharm": {
     "name": "#%%\n"
    }
   },
   "outputs": [],
   "source": []
  },
  {
   "cell_type": "markdown",
   "metadata": {
    "lines_to_next_cell": 0,
    "pycharm": {
     "name": "#%%\n"
    }
   },
   "source": [
    "## Relevant Background\n",
    "\n",
    "* 1999 NLP\n",
    "* 2006 Created Python OLAP Engine\n",
    "* 2009 Heard about Pandas\n",
    "* Used Pandas for failure modeling, analytics, and ml\n",
    "* 2016 Learning the Pandas Library\n",
    "* 2019 Spark\n",
    "* 2020 Pandas Cookbook\n",
    "* 2021 Effective Pandas\n",
    "* 2022 CuDf, Modin, Polars\n",
    "* 2023 Effective Pandas 2\n",
    "* 2024 Effective Polars\n",
    "* 2024 Effective Polars 1.0\n",
    "* 2024 NVidia Polars backend\n"
   ]
  },
  {
   "cell_type": "code",
   "execution_count": null,
   "metadata": {},
   "outputs": [],
   "source": []
  },
  {
   "cell_type": "code",
   "execution_count": null,
   "metadata": {},
   "outputs": [],
   "source": []
  },
  {
   "cell_type": "code",
   "execution_count": null,
   "metadata": {},
   "outputs": [],
   "source": []
  },
  {
   "cell_type": "code",
   "execution_count": null,
   "metadata": {},
   "outputs": [],
   "source": []
  },
  {
   "cell_type": "markdown",
   "metadata": {},
   "source": [
    "## Why Tabular?\n",
    "\n",
    "- Deep learning and video/audio are popular but the crown jewels are in Excel or SQL.\n",
    "\n",
    "- My focus on tabular tooling (Pandas, Polars, XGBoost, CatBoost, etc)\n"
   ]
  },
  {
   "cell_type": "code",
   "execution_count": null,
   "metadata": {},
   "outputs": [],
   "source": []
  },
  {
   "cell_type": "code",
   "execution_count": null,
   "metadata": {},
   "outputs": [],
   "source": []
  },
  {
   "cell_type": "code",
   "execution_count": null,
   "metadata": {},
   "outputs": [],
   "source": []
  },
  {
   "cell_type": "markdown",
   "metadata": {},
   "source": [
    "## Sad News\n",
    "\n",
    "- Python is slow\n",
    "- Pandas gets around this with NumPy (v1) and PyArrow (v2)\n",
    "- Polars gets around this with Arrow (Rust)\n",
    "- Stay in the playground"
   ]
  },
  {
   "cell_type": "code",
   "execution_count": null,
   "metadata": {},
   "outputs": [],
   "source": []
  },
  {
   "cell_type": "code",
   "execution_count": null,
   "metadata": {
    "lines_to_next_cell": 2
   },
   "outputs": [],
   "source": []
  },
  {
   "cell_type": "code",
   "execution_count": null,
   "metadata": {
    "lines_to_next_cell": 2,
    "pycharm": {
     "name": "#%%\n"
    }
   },
   "outputs": [],
   "source": []
  },
  {
   "cell_type": "code",
   "execution_count": null,
   "metadata": {
    "lines_to_next_cell": 2,
    "pycharm": {
     "name": "#%%\n"
    }
   },
   "outputs": [],
   "source": []
  },
  {
   "cell_type": "code",
   "execution_count": null,
   "metadata": {
    "lines_to_next_cell": 2,
    "pycharm": {
     "name": "#%%\n"
    }
   },
   "outputs": [],
   "source": []
  },
  {
   "cell_type": "markdown",
   "metadata": {
    "lines_to_next_cell": 0,
    "pycharm": {
     "name": "#%% md\n"
    }
   },
   "source": [
    "## Outline of Opinions\n",
    "\n",
    "* Load Data\n",
    "* Types\n",
    "* Chaining\n",
    "* Apply\n",
    "* Aggregation"
   ]
  },
  {
   "cell_type": "code",
   "execution_count": null,
   "metadata": {},
   "outputs": [],
   "source": []
  },
  {
   "cell_type": "code",
   "execution_count": null,
   "metadata": {},
   "outputs": [],
   "source": []
  },
  {
   "cell_type": "code",
   "execution_count": null,
   "metadata": {},
   "outputs": [],
   "source": []
  },
  {
   "cell_type": "code",
   "execution_count": null,
   "metadata": {
    "lines_to_next_cell": 2
   },
   "outputs": [],
   "source": []
  },
  {
   "cell_type": "markdown",
   "metadata": {},
   "source": [
    "## Polars Overview\n",
    "\n",
    "* Polars is a Rust library with Python bindings\n",
    "* Polars has expressions and contexts\n",
    "  - Contexts - `.select`, `.with_columns`, `.filter`\n",
    "  - Expressions - done w/ `pl.col(\"col_name\")` or `pl.lit(1)`\n",
    "* Lazy evaluation\n",
    "* Query optimization\n",
    "* Multi-threaded\n"
   ]
  },
  {
   "cell_type": "code",
   "execution_count": null,
   "metadata": {},
   "outputs": [],
   "source": []
  },
  {
   "cell_type": "code",
   "execution_count": null,
   "metadata": {},
   "outputs": [],
   "source": []
  },
  {
   "cell_type": "code",
   "execution_count": null,
   "metadata": {},
   "outputs": [],
   "source": []
  },
  {
   "cell_type": "markdown",
   "metadata": {
    "pycharm": {
     "name": "#%% md\n"
    }
   },
   "source": [
    "## Data\n",
    "\n",
    "This just shows how I processed the Strava GPX file to \n",
    "create a dataframe\n"
   ]
  },
  {
   "cell_type": "code",
   "execution_count": null,
   "metadata": {
    "lines_to_next_cell": 2,
    "pycharm": {
     "name": "#%%\n"
    }
   },
   "outputs": [],
   "source": [
    "import gpxpy\n",
    "import numpy as np\n",
    "import polars as pl\n",
    "import polars.selectors as cs\n",
    "import pandas as pd"
   ]
  },
  {
   "cell_type": "code",
   "execution_count": null,
   "metadata": {
    "pycharm": {
     "name": "#%%\n"
    }
   },
   "outputs": [],
   "source": [
    "pl.__version__"
   ]
  },
  {
   "cell_type": "code",
   "execution_count": null,
   "metadata": {},
   "outputs": [],
   "source": [
    "import polars as pl\n",
    "import gpxpy\n",
    "import numpy as np\n",
    "\n",
    "def gpx_to_polars(fname):\n",
    "    # Parse the GPX file\n",
    "    data = gpxpy.parse(open(fname))\n",
    "    prev = None\n",
    "    data_dict = {'course': [],\n",
    "                 'distance_2d': [],\n",
    "                 'latitude': [],\n",
    "                 'longitude': [],\n",
    "                 'time': [],\n",
    "                 'elevation': [],\n",
    "                 'speed_between': [],\n",
    "                }\n",
    "    \n",
    "    # Iterate through tracks, segments, and points\n",
    "    for track in data.tracks:\n",
    "        for seg in track.segments:\n",
    "            for i, pt in enumerate(seg.points):\n",
    "                if prev is None:\n",
    "                    prev = pt\n",
    "                for key in data_dict:\n",
    "                    attr = getattr(pt, key)\n",
    "                    if callable(attr):\n",
    "                        data_dict[key].append(attr(prev))\n",
    "                    else:\n",
    "                        data_dict[key].append(attr)\n",
    "                prev = pt\n",
    "\n",
    "    # Create a Polars DataFrame\n",
    "    df = (pl.DataFrame(data_dict)\n",
    "\n",
    "        #.with_columns([pl.col(\"time\").str.strptime(pl.Datetime, \"%Y-%m-%dT%H:%M:%SZ\", strict=False)])\n",
    "        .with_columns(\n",
    "            travelled= pl.col(\"distance_2d\").cum_sum(),\n",
    "            elapsed=(pl.col(\"time\") - pl.col(\"time\").min()).dt.total_seconds()\n",
    "        )\n",
    "        .with_columns(        \n",
    "            avg_velocity=pl.col(\"travelled\") / pl.col(\"elapsed\"),\n",
    "            rolling_travelled=pl.col(\"travelled\").rolling_mean(window_size=5),\n",
    "            rolling_elapsed=pl.col(\"elapsed\").rolling_mean(window_size=5),\n",
    "        )\n",
    "        .with_columns(\n",
    "            rolling_velocity=pl.col(\"rolling_travelled\") / pl.col(\"rolling_elapsed\"),\n",
    "            rolling_between=pl.col(\"speed_between\").rolling_mean(window_size=5),\n",
    "        )\n",
    "    )\n",
    "\n",
    "    return df\n",
    "\n",
    "df = gpx_to_polars('Face_plant.gpx')\n",
    "print(df)\n"
   ]
  },
  {
   "cell_type": "code",
   "execution_count": null,
   "metadata": {},
   "outputs": [],
   "source": []
  },
  {
   "cell_type": "code",
   "execution_count": null,
   "metadata": {},
   "outputs": [],
   "source": []
  },
  {
   "cell_type": "code",
   "execution_count": null,
   "metadata": {},
   "outputs": [],
   "source": [
    "import polars as pl\n",
    "import polars.selectors as cs\n",
    "import numpy as np\n",
    "\n"
   ]
  },
  {
   "cell_type": "code",
   "execution_count": null,
   "metadata": {
    "lines_to_next_cell": 2
   },
   "outputs": [],
   "source": [
    "# 1.09 Megabytes\n",
    "df.estimated_size()"
   ]
  },
  {
   "cell_type": "code",
   "execution_count": null,
   "metadata": {},
   "outputs": [],
   "source": [
    "(df)  # no index"
   ]
  },
  {
   "cell_type": "code",
   "execution_count": null,
   "metadata": {
    "lines_to_next_cell": 2,
    "pycharm": {
     "name": "#%%\n"
    }
   },
   "outputs": [],
   "source": [
    "(df.with_row_index())"
   ]
  },
  {
   "cell_type": "code",
   "execution_count": null,
   "metadata": {
    "lines_to_next_cell": 2,
    "pycharm": {
     "name": "#%%\n"
    }
   },
   "outputs": [],
   "source": []
  },
  {
   "cell_type": "markdown",
   "metadata": {
    "pycharm": {
     "name": "#%% md\n"
    }
   },
   "source": [
    "## Types\n",
    "Getting the right types will enable analysis and correctness."
   ]
  },
  {
   "cell_type": "code",
   "execution_count": null,
   "metadata": {},
   "outputs": [],
   "source": [
    "print(df.columns)"
   ]
  },
  {
   "cell_type": "code",
   "execution_count": null,
   "metadata": {
    "lines_to_next_cell": 2
   },
   "outputs": [],
   "source": [
    "cols = ['course', 'distance_2d', 'latitude', 'longitude', 'time', 'elevation', 'speed_between', 'travelled', \n",
    "        'elapsed', 'avg_velocity', 'rolling_travelled', 'rolling_elapsed', 'rolling_velocity', 'rolling_between']"
   ]
  },
  {
   "cell_type": "code",
   "execution_count": null,
   "metadata": {
    "pycharm": {
     "name": "#%%\n"
    }
   },
   "outputs": [],
   "source": [
    "df[cols].dtypes"
   ]
  },
  {
   "cell_type": "code",
   "execution_count": null,
   "metadata": {
    "pycharm": {
     "name": "#%%\n"
    }
   },
   "outputs": [],
   "source": [
    "# 1.06 Megabytes\n",
    "df[cols].estimated_size()"
   ]
  },
  {
   "cell_type": "code",
   "execution_count": null,
   "metadata": {
    "lines_to_next_cell": 2,
    "pycharm": {
     "name": "#%%\n"
    }
   },
   "outputs": [],
   "source": []
  },
  {
   "cell_type": "markdown",
   "metadata": {
    "pycharm": {
     "name": "#%% md\n"
    }
   },
   "source": [
    "### Ints"
   ]
  },
  {
   "cell_type": "code",
   "execution_count": null,
   "metadata": {
    "pycharm": {
     "name": "#%%\n"
    },
    "scrolled": true
   },
   "outputs": [],
   "source": [
    "# select is a context\n",
    "# pl.col is an expression\n",
    "df[cols].select(pl.col([pl.Int64]))"
   ]
  },
  {
   "cell_type": "code",
   "execution_count": null,
   "metadata": {
    "pycharm": {
     "name": "#%%\n"
    },
    "scrolled": true
   },
   "outputs": [],
   "source": [
    "df[cols].select(pl.col(pl.Int64)).describe()"
   ]
  },
  {
   "cell_type": "code",
   "execution_count": null,
   "metadata": {
    "pycharm": {
     "name": "#%%\n"
    }
   },
   "outputs": [],
   "source": [
    "# chaining\n",
    "(df\n",
    " .select(cols)\n",
    " .select(pl.col(pl.Int64))\n",
    " .describe()\n",
    ")"
   ]
  },
  {
   "cell_type": "code",
   "execution_count": null,
   "metadata": {
    "pycharm": {
     "name": "#%%\n"
    },
    "scrolled": true
   },
   "outputs": [],
   "source": [
    "# can elapsed be an int8?\n",
    "np.iinfo(np.int8)"
   ]
  },
  {
   "cell_type": "code",
   "execution_count": null,
   "metadata": {},
   "outputs": [],
   "source": [
    "# can elapsed be an int16?\n",
    "np.iinfo(np.int16)"
   ]
  },
  {
   "cell_type": "code",
   "execution_count": null,
   "metadata": {
    "pycharm": {
     "name": "#%%\n"
    },
    "scrolled": true
   },
   "outputs": [],
   "source": [
    "# chaining\n",
    "# polars prevents illegal casts\n",
    "(df\n",
    " .select(cols)\n",
    " .with_columns(pl.col('elapsed').cast(pl.Int8))\n",
    " #.describe()\n",
    ")"
   ]
  },
  {
   "cell_type": "code",
   "execution_count": null,
   "metadata": {
    "pycharm": {
     "name": "#%%\n"
    },
    "scrolled": true
   },
   "outputs": [],
   "source": [
    "# chaining\n",
    "(df\n",
    " .select(cols)\n",
    " .with_columns(pl.col('elapsed').cast(pl.Int16))\n",
    " .describe()               \n",
    ")"
   ]
  },
  {
   "cell_type": "code",
   "execution_count": null,
   "metadata": {
    "lines_to_next_cell": 0,
    "pycharm": {
     "name": "#%%\n"
    },
    "scrolled": true
   },
   "outputs": [],
   "source": [
    "# chaining\n",
    "(df\n",
    " .select(cols)\n",
    " .with_columns(pl.col('elapsed').cast(pl.Int16)) \n",
    " .estimated_size()\n",
    ")"
   ]
  },
  {
   "cell_type": "code",
   "execution_count": null,
   "metadata": {},
   "outputs": [],
   "source": [
    "(df\n",
    " .estimated_size()\n",
    ")"
   ]
  },
  {
   "cell_type": "code",
   "execution_count": null,
   "metadata": {},
   "outputs": [],
   "source": []
  },
  {
   "cell_type": "code",
   "execution_count": null,
   "metadata": {
    "lines_to_next_cell": 2,
    "pycharm": {
     "name": "#%%\n"
    }
   },
   "outputs": [],
   "source": []
  },
  {
   "cell_type": "code",
   "execution_count": null,
   "metadata": {
    "lines_to_next_cell": 2,
    "pycharm": {
     "name": "#%%\n"
    }
   },
   "outputs": [],
   "source": []
  },
  {
   "cell_type": "markdown",
   "metadata": {
    "pycharm": {
     "name": "#%% md\n"
    }
   },
   "source": [
    "### Strings"
   ]
  },
  {
   "cell_type": "code",
   "execution_count": null,
   "metadata": {
    "pycharm": {
     "name": "#%%\n"
    },
    "scrolled": true
   },
   "outputs": [],
   "source": [
    "df.select(cols).select(pl.col(pl.String))"
   ]
  },
  {
   "cell_type": "code",
   "execution_count": null,
   "metadata": {
    "scrolled": true
   },
   "outputs": [],
   "source": [
    "# chaining\n",
    "(df\n",
    " .select(cols)\n",
    " .with_columns(pl.col('elapsed').cast(pl.Int16),\n",
    "               course=pl.lit('Maple Syrup'))\n",
    ")"
   ]
  },
  {
   "cell_type": "code",
   "execution_count": null,
   "metadata": {
    "scrolled": true
   },
   "outputs": [],
   "source": [
    "# chaining\n",
    "(df\n",
    " .select(cols)\n",
    " .with_columns(pl.col('elapsed').cast(pl.Int16),\n",
    "               course=pl.lit('Maple Syrup'))\n",
    " .with_columns(alt_name=pl.col('course').str.to_uppercase()) \n",
    " \n",
    ")"
   ]
  },
  {
   "cell_type": "code",
   "execution_count": null,
   "metadata": {},
   "outputs": [],
   "source": [
    "# a bunch of string methods off of .str\n",
    "# note that the spelling might be different from python/pandas\n",
    "col = pl.col('')\n",
    "print(dir(col.str))"
   ]
  },
  {
   "cell_type": "code",
   "execution_count": null,
   "metadata": {
    "lines_to_next_cell": 0
   },
   "outputs": [],
   "source": [
    "col.str.to_uppercase?"
   ]
  },
  {
   "cell_type": "code",
   "execution_count": null,
   "metadata": {},
   "outputs": [],
   "source": []
  },
  {
   "cell_type": "code",
   "execution_count": null,
   "metadata": {},
   "outputs": [],
   "source": []
  },
  {
   "cell_type": "markdown",
   "metadata": {},
   "source": [
    "## Convert Date to Local Time"
   ]
  },
  {
   "cell_type": "code",
   "execution_count": null,
   "metadata": {},
   "outputs": [],
   "source": [
    "(df\n",
    " .select(cols)\n",
    " .with_columns(pl.col('elapsed').cast(pl.Int16),\n",
    "               course=pl.lit('Maple Syrup').cast(pl.Categorical),\n",
    "               time=pl.col('time').dt.convert_time_zone('America/Denver')\n",
    "              )\n",
    ")"
   ]
  },
  {
   "cell_type": "code",
   "execution_count": null,
   "metadata": {},
   "outputs": [],
   "source": [
    "col = pl.col('time')\n",
    "print(dir(col))"
   ]
  },
  {
   "cell_type": "code",
   "execution_count": null,
   "metadata": {},
   "outputs": [],
   "source": [
    "print(len(dir(col)))"
   ]
  },
  {
   "cell_type": "code",
   "execution_count": null,
   "metadata": {},
   "outputs": [],
   "source": [
    "print(dir(col.dt))"
   ]
  },
  {
   "cell_type": "code",
   "execution_count": null,
   "metadata": {},
   "outputs": [],
   "source": [
    "print(len(dir(col.dt)))"
   ]
  },
  {
   "cell_type": "code",
   "execution_count": null,
   "metadata": {},
   "outputs": [],
   "source": []
  },
  {
   "cell_type": "code",
   "execution_count": null,
   "metadata": {},
   "outputs": [],
   "source": []
  },
  {
   "cell_type": "code",
   "execution_count": null,
   "metadata": {},
   "outputs": [],
   "source": []
  },
  {
   "cell_type": "code",
   "execution_count": null,
   "metadata": {},
   "outputs": [],
   "source": []
  },
  {
   "cell_type": "markdown",
   "metadata": {},
   "source": [
    "## Missing Data\n",
    "\n",
    "- Use `.fill_null` to address\n",
    "- Use `.filter` to filter rows\n",
    "- Use `.select` to select columns\n",
    "\n",
    "To view rows with missing data use `.filter(pl.col(\"col_name\").is_null())`"
   ]
  },
  {
   "cell_type": "code",
   "execution_count": null,
   "metadata": {},
   "outputs": [],
   "source": [
    "(df\n",
    " .select(cols)\n",
    " .with_columns(pl.col('elapsed').cast(pl.Int16),\n",
    "               course=pl.lit('Maple Syrup').cast(pl.Categorical),\n",
    "               time=pl.col('time').dt.convert_time_zone('America/Denver'))\n",
    " .null_count()\n",
    ")"
   ]
  },
  {
   "cell_type": "code",
   "execution_count": null,
   "metadata": {},
   "outputs": [],
   "source": [
    "# use .select to find where rows are missing\n",
    "(df\n",
    " .select(cols)\n",
    " .with_columns(pl.col('elapsed').cast(pl.Int16),\n",
    "               course=pl.lit('Maple Syrup').cast(pl.Categorical),\n",
    "               time=pl.col('time').dt.convert_time_zone('America/Denver'))\n",
    " .select(pl.col('rolling_between').is_null())\n",
    ")"
   ]
  },
  {
   "cell_type": "code",
   "execution_count": null,
   "metadata": {},
   "outputs": [],
   "source": [
    "# change .select to .filter to view the rows\n",
    "(df\n",
    " .select(cols)\n",
    " .with_row_index()\n",
    " .with_columns(pl.col('elapsed').cast(pl.Int16),\n",
    "               course=pl.lit('Maple Syrup').cast(pl.Categorical),\n",
    "               time=pl.col('time').dt.convert_time_zone('America/Denver'))               \n",
    " .filter(pl.col('rolling_between').is_null())\n",
    ")"
   ]
  },
  {
   "cell_type": "code",
   "execution_count": null,
   "metadata": {},
   "outputs": [],
   "source": [
    "# what about nans?\n",
    "# note that nan and null are different in polars\n",
    "# nan means not a number\n",
    "# null means missing data\n",
    "(df\n",
    " .select(cols)\n",
    " .with_columns(pl.col('elapsed').cast(pl.Int16),\n",
    "               course=pl.lit('Maple Syrup').cast(pl.Categorical),\n",
    "               time=pl.col('time').dt.convert_time_zone('America/Denver'))               \n",
    " .select(cs.numeric().is_nan().sum())\n",
    ")"
   ]
  },
  {
   "cell_type": "code",
   "execution_count": null,
   "metadata": {},
   "outputs": [],
   "source": [
    "(df\n",
    " .select(cols)\n",
    " .with_columns(pl.col('elapsed').cast(pl.Int16),\n",
    "               course=pl.lit('Maple Syrup').cast(pl.Categorical),\n",
    "               time=pl.col('time').dt.convert_time_zone('America/Denver'))               \n",
    " .select(pl.col('avg_velocity').is_nan())\n",
    ")"
   ]
  },
  {
   "cell_type": "code",
   "execution_count": null,
   "metadata": {
    "scrolled": true
   },
   "outputs": [],
   "source": [
    "(df\n",
    " .select(cols)\n",
    " .with_row_index()  \n",
    " .with_columns(pl.col('elapsed').cast(pl.Int16),\n",
    "               course=pl.lit('Maple Syrup').cast(pl.Categorical),\n",
    "               time=pl.col('time').dt.convert_time_zone('America/Denver'))               \n",
    " .filter(pl.col('avg_velocity').is_nan())\n",
    ")"
   ]
  },
  {
   "cell_type": "code",
   "execution_count": null,
   "metadata": {},
   "outputs": [],
   "source": [
    "# a glorious function\n",
    "\n",
    "def tweak_gpx(df_):\n",
    "    return (df_\n",
    "        .select(cols)\n",
    "        .with_row_index()  \n",
    "        .with_columns(pl.col('elapsed').cast(pl.Int16),\n",
    "                    course=pl.lit('Maple Syrup').cast(pl.Categorical),\n",
    "                    time=pl.col('time').dt.convert_time_zone('America/Denver'))               \n",
    "        )\n",
    "\n",
    "tweak_gpx(df)"
   ]
  },
  {
   "cell_type": "code",
   "execution_count": null,
   "metadata": {
    "lines_to_next_cell": 2,
    "pycharm": {
     "name": "#%%\n"
    }
   },
   "outputs": [],
   "source": []
  },
  {
   "cell_type": "code",
   "execution_count": null,
   "metadata": {
    "lines_to_next_cell": 0,
    "pycharm": {
     "name": "#%%\n"
    }
   },
   "outputs": [],
   "source": []
  },
  {
   "cell_type": "code",
   "execution_count": null,
   "metadata": {},
   "outputs": [],
   "source": []
  },
  {
   "cell_type": "code",
   "execution_count": null,
   "metadata": {},
   "outputs": [],
   "source": []
  },
  {
   "cell_type": "markdown",
   "metadata": {
    "pycharm": {
     "name": "#%% md\n"
    }
   },
   "source": [
    "## Chain\n",
    "\n",
    "Chaining is also called \"flow\" programming. Rather than making intermediate variables, just leverage the fact that most operations return a new object and work on that.\n",
    "\n",
    "The chain should read like a recipe of ordered steps.\n",
    "\n",
    "(BTW, this is actually what we did above.)"
   ]
  },
  {
   "cell_type": "code",
   "execution_count": null,
   "metadata": {},
   "outputs": [],
   "source": [
    "# a glorious function\n",
    "\n",
    "def tweak_gpx(df_):\n",
    "    return (df_\n",
    "        .select(cols)\n",
    "        .with_row_index()  \n",
    "        .with_columns(pl.col('elapsed').cast(pl.Int16),\n",
    "                    course=pl.lit('Maple Syrup').cast(pl.Categorical),\n",
    "                    time=pl.col('time').dt.convert_time_zone('America/Denver'))               \n",
    "        )\n",
    "\n",
    "tweak_gpx(df).write_parquet('Face_plant.parquet')"
   ]
  },
  {
   "cell_type": "code",
   "execution_count": null,
   "metadata": {},
   "outputs": [],
   "source": [
    "# laziness\n",
    "gpx_lazy = pl.scan_parquet('Face_plant.parquet') \n",
    "tweak_gpx(gpx_lazy)"
   ]
  },
  {
   "cell_type": "code",
   "execution_count": null,
   "metadata": {},
   "outputs": [],
   "source": [
    "# use .collect to generate plan and materialize\n",
    "tweak_gpx(gpx_lazy).collect()"
   ]
  },
  {
   "cell_type": "code",
   "execution_count": null,
   "metadata": {},
   "outputs": [],
   "source": [
    "# using GPU!\n",
    "tweak_gpx(gpx_lazy).collect('gpu')"
   ]
  },
  {
   "cell_type": "code",
   "execution_count": null,
   "metadata": {},
   "outputs": [],
   "source": [
    "# debugging\n",
    "# some folks really want the intermediate data...\n",
    "def get_var(df, var_name):\n",
    "   globals()[var_name] = df\n",
    "   return df\n",
    "\n",
    "def tweak_gpx(df_):\n",
    "    return (df_\n",
    "        .pipe(lambda df: print(df.shape) or df)  # Look! 🤯\n",
    "        .select(cols)\n",
    "        .with_row_index()  \n",
    "        .pipe(get_var, 'intermediate')  # Debugging! 💪\n",
    "        .with_columns(pl.col('elapsed').cast(pl.Int16),\n",
    "                    course=pl.lit('Maple Syrup').cast(pl.Categorical),\n",
    "                    time=pl.col('time').dt.convert_time_zone('America/Denver'))               \n",
    "        )\n",
    "\n",
    "raw = pl.read_parquet('Face_plant.parquet')\n",
    "tweak_gpx(raw)"
   ]
  },
  {
   "cell_type": "code",
   "execution_count": null,
   "metadata": {
    "scrolled": true
   },
   "outputs": [],
   "source": [
    "intermediate"
   ]
  },
  {
   "cell_type": "code",
   "execution_count": null,
   "metadata": {
    "lines_to_next_cell": 2,
    "pycharm": {
     "name": "#%%\n"
    }
   },
   "outputs": [],
   "source": []
  },
  {
   "cell_type": "code",
   "execution_count": null,
   "metadata": {
    "lines_to_next_cell": 2,
    "pycharm": {
     "name": "#%%\n"
    }
   },
   "outputs": [],
   "source": []
  },
  {
   "cell_type": "code",
   "execution_count": null,
   "metadata": {
    "lines_to_next_cell": 2,
    "pycharm": {
     "name": "#%%\n"
    }
   },
   "outputs": [],
   "source": []
  },
  {
   "cell_type": "code",
   "execution_count": null,
   "metadata": {
    "lines_to_next_cell": 2,
    "pycharm": {
     "name": "#%%\n"
    }
   },
   "outputs": [],
   "source": []
  },
  {
   "cell_type": "code",
   "execution_count": null,
   "metadata": {
    "lines_to_next_cell": 2,
    "pycharm": {
     "name": "#%%\n"
    }
   },
   "outputs": [],
   "source": []
  },
  {
   "cell_type": "markdown",
   "metadata": {
    "pycharm": {
     "name": "#%% md\n"
    }
   },
   "source": [
    "## Don't Apply (map_elements) if you can"
   ]
  },
  {
   "cell_type": "code",
   "execution_count": null,
   "metadata": {},
   "outputs": [],
   "source": [
    "# debugging\n",
    "def get_var(df, var_name):\n",
    "   globals()[var_name] = df\n",
    "   return df\n",
    "\n",
    "def tweak_gpx(df_):\n",
    "    return (df_\n",
    "             .pipe(lambda df: print(df.shape) or df)\n",
    "        .select(cols)\n",
    "        .with_row_index()  \n",
    "         .pipe(get_var, 'intermediate')\n",
    "        .with_columns(pl.col('elapsed').cast(pl.Int16),\n",
    "                    course=pl.lit('Maple Syrup').cast(pl.Categorical),\n",
    "                    time=pl.col('time').dt.convert_time_zone('America/Denver'))               \n",
    "        )\n",
    "\n",
    "raw = pl.read_parquet('Face_plant.parquet')\n",
    "df = tweak_gpx(raw)"
   ]
  },
  {
   "cell_type": "code",
   "execution_count": null,
   "metadata": {},
   "outputs": [],
   "source": [
    "# convert elevation from meters to feet\n",
    "def meters_to_feet(m):\n",
    "    return m * 3.28084\n",
    "\n",
    "(df\n",
    " .select('elevation', \n",
    "         ele_ft=pl.col('elevation').map_elements(meters_to_feet)) \n",
    ")"
   ]
  },
  {
   "cell_type": "code",
   "execution_count": null,
   "metadata": {},
   "outputs": [],
   "source": [
    "# convert elevation from meters to feet\n",
    "def meters_to_feet(m):\n",
    "    return m * 3.28084\n",
    "\n",
    "(df\n",
    " .select('elevation', \n",
    "         ele_ft=meters_to_feet(pl.col('elevation')))\n",
    ")"
   ]
  },
  {
   "cell_type": "code",
   "execution_count": null,
   "metadata": {},
   "outputs": [],
   "source": [
    "# Perhaps more readable\n",
    "# convert elevation from meters to feet\n",
    "def meters_to_feet(m):\n",
    "    return m * 3.28084\n",
    "\n",
    "(df\n",
    " .select('elevation', \n",
    "         ele_ft=pl.col('elevation').pipe(meters_to_feet))\n",
    ")"
   ]
  },
  {
   "cell_type": "code",
   "execution_count": null,
   "metadata": {
    "scrolled": true
   },
   "outputs": [],
   "source": [
    "%%timeit\n",
    "# takes 965 µs on my machine\n",
    "(df\n",
    " .select('elevation', ele_ft=pl.col('elevation').map_elements(meters_to_feet)) \n",
    ")"
   ]
  },
  {
   "cell_type": "code",
   "execution_count": null,
   "metadata": {},
   "outputs": [],
   "source": [
    "import warnings\n",
    "\n",
    "warnings.filterwarnings('ignore')"
   ]
  },
  {
   "cell_type": "code",
   "execution_count": null,
   "metadata": {
    "scrolled": true
   },
   "outputs": [],
   "source": [
    "%%timeit\n",
    "# takes 965 µs on my machine\n",
    "(df\n",
    " .select('elevation', ele_ft=pl.col('elevation').map_elements(meters_to_feet)) \n",
    ")"
   ]
  },
  {
   "cell_type": "code",
   "execution_count": null,
   "metadata": {},
   "outputs": [],
   "source": [
    "warnings.resetwarnings()"
   ]
  },
  {
   "cell_type": "code",
   "execution_count": null,
   "metadata": {},
   "outputs": [],
   "source": [
    "%%timeit\n",
    "(df\n",
    " .select('elevation', \n",
    "         ele_ft=pl.col('elevation').pipe(meters_to_feet))\n",
    ")"
   ]
  },
  {
   "cell_type": "code",
   "execution_count": null,
   "metadata": {},
   "outputs": [],
   "source": [
    "%%timeit\n",
    "(df\n",
    " .select('elevation', \n",
    "         ele_ft=pl.col('elevation')*3.28084)\n",
    ")"
   ]
  },
  {
   "cell_type": "code",
   "execution_count": null,
   "metadata": {},
   "outputs": [],
   "source": [
    "888/57"
   ]
  },
  {
   "cell_type": "code",
   "execution_count": null,
   "metadata": {
    "lines_to_next_cell": 2,
    "pycharm": {
     "name": "#%%\n"
    }
   },
   "outputs": [],
   "source": []
  },
  {
   "cell_type": "markdown",
   "metadata": {
    "lines_to_next_cell": 2,
    "pycharm": {
     "name": "#%%\n"
    }
   },
   "source": [
    "## benchmark caveat\n",
    "- Use the size of data you are using in the real world"
   ]
  },
  {
   "cell_type": "code",
   "execution_count": null,
   "metadata": {
    "lines_to_next_cell": 2,
    "pycharm": {
     "name": "#%%\n"
    }
   },
   "outputs": [],
   "source": []
  },
  {
   "cell_type": "code",
   "execution_count": null,
   "metadata": {
    "lines_to_next_cell": 2,
    "pycharm": {
     "name": "#%%\n"
    }
   },
   "outputs": [],
   "source": []
  },
  {
   "cell_type": "code",
   "execution_count": null,
   "metadata": {
    "lines_to_next_cell": 2,
    "pycharm": {
     "name": "#%%\n"
    }
   },
   "outputs": [],
   "source": []
  },
  {
   "cell_type": "code",
   "execution_count": null,
   "metadata": {
    "lines_to_next_cell": 2,
    "pycharm": {
     "name": "#%%\n"
    }
   },
   "outputs": [],
   "source": []
  },
  {
   "cell_type": "code",
   "execution_count": null,
   "metadata": {
    "lines_to_next_cell": 2,
    "pycharm": {
     "name": "#%%\n"
    }
   },
   "outputs": [],
   "source": []
  },
  {
   "cell_type": "markdown",
   "metadata": {
    "pycharm": {
     "name": "#%% md\n"
    }
   },
   "source": [
    "## Master Aggregation\n",
    "\n",
    "Let's speed (and distance) by 10 minute intervals"
   ]
  },
  {
   "cell_type": "code",
   "execution_count": null,
   "metadata": {},
   "outputs": [],
   "source": [
    "def meters_per_second_to_mph(mps):\n",
    "    return mps * 2.23694\n",
    "\n",
    "(tweak_gpx(raw)\n",
    " .group_by_dynamic(index_column='time', every='10m')\n",
    " .agg(pl.col('travelled').last() - pl.col('travelled').first(),\n",
    "      speed=(pl.col('travelled').last() - pl.col('travelled').first()) / \n",
    "          ((pl.col('time').last() - pl.col('time').first()).dt.total_seconds())\n",
    "    ) \n",
    " .with_columns(mph=pl.col('speed').pipe(meters_per_second_to_mph))\n",
    " )"
   ]
  },
  {
   "cell_type": "code",
   "execution_count": null,
   "metadata": {},
   "outputs": [],
   "source": [
    "def meters_per_second_to_mph(mps):\n",
    "    return mps * 2.23694\n",
    "\n",
    "(tweak_gpx(raw)\n",
    " .group_by_dynamic(index_column='time', every='10m')\n",
    " .agg(pl.col('travelled').last() - pl.col('travelled').first(),\n",
    "      speed=(pl.col('travelled').last() - pl.col('travelled').first()) / \n",
    "      ((pl.col('time').last() - pl.col('time').first()).dt.total_seconds())\n",
    "    ) \n",
    " .with_columns(mph=pl.col('speed').pipe(meters_per_second_to_mph))\n",
    " .plot.bar(x='time', y='mph')\n",
    " )"
   ]
  },
  {
   "cell_type": "code",
   "execution_count": null,
   "metadata": {},
   "outputs": [],
   "source": [
    "# uphill vs downhill\n",
    "def meters_to_feet(m):\n",
    "    return m * 3.28084\n",
    "\n",
    "def feet_to_miles(f):\n",
    "    return f / 5280\n",
    "\n",
    "(tweak_gpx(raw)\n",
    " .with_columns(climbing=pl.col('elevation').diff().gt(0))\n",
    " .group_by('climbing')\n",
    " .agg(pl.col('distance_2d').sum().pipe(meters_to_feet).pipe(feet_to_miles))\n",
    " .filter(~pl.col('climbing').is_null())\n",
    ")"
   ]
  },
  {
   "cell_type": "code",
   "execution_count": null,
   "metadata": {},
   "outputs": [],
   "source": [
    "# uphill vs downhill\n",
    "def meters_to_feet(m):\n",
    "    return m * 3.28084\n",
    "\n",
    "def feet_to_miles(f):\n",
    "    return f / 5280\n",
    "\n",
    "(tweak_gpx(raw)\n",
    " .with_columns(climbing=pl.col('elevation').diff().gt(0))\n",
    " .group_by('climbing')\n",
    " .agg(pl.col('distance_2d').sum().pipe(meters_to_feet).pipe(feet_to_miles))\n",
    " .filter(~pl.col('climbing').is_null())\n",
    " .plot.bar(x='climbing', y='distance_2d')\n",
    ")"
   ]
  },
  {
   "cell_type": "code",
   "execution_count": null,
   "metadata": {
    "lines_to_next_cell": 2,
    "pycharm": {
     "name": "#%%\n"
    }
   },
   "outputs": [],
   "source": []
  },
  {
   "cell_type": "code",
   "execution_count": null,
   "metadata": {
    "lines_to_next_cell": 2,
    "pycharm": {
     "name": "#%%\n"
    }
   },
   "outputs": [],
   "source": []
  },
  {
   "cell_type": "code",
   "execution_count": null,
   "metadata": {
    "lines_to_next_cell": 2,
    "pycharm": {
     "name": "#%%\n"
    }
   },
   "outputs": [],
   "source": []
  },
  {
   "cell_type": "code",
   "execution_count": null,
   "metadata": {
    "lines_to_next_cell": 2,
    "pycharm": {
     "name": "#%%\n"
    }
   },
   "outputs": [],
   "source": []
  },
  {
   "cell_type": "code",
   "execution_count": null,
   "metadata": {
    "lines_to_next_cell": 2,
    "pycharm": {
     "name": "#%%\n"
    }
   },
   "outputs": [],
   "source": []
  },
  {
   "cell_type": "code",
   "execution_count": null,
   "metadata": {
    "lines_to_next_cell": 2,
    "pycharm": {
     "name": "#%%\n"
    }
   },
   "outputs": [],
   "source": []
  },
  {
   "cell_type": "code",
   "execution_count": null,
   "metadata": {
    "lines_to_next_cell": 2,
    "pycharm": {
     "name": "#%%\n"
    }
   },
   "outputs": [],
   "source": []
  },
  {
   "cell_type": "code",
   "execution_count": null,
   "metadata": {
    "lines_to_next_cell": 2,
    "pycharm": {
     "name": "#%%\n"
    }
   },
   "outputs": [],
   "source": []
  },
  {
   "cell_type": "markdown",
   "metadata": {
    "pycharm": {
     "name": "#%% md\n"
    }
   },
   "source": [
    "## Summary\n",
    "\n",
    "* Correct types save space and enable convenient math, string, and date functionality\n",
    "* Chaining operations will:\n",
    "   * Make code readable\n",
    "   * Remove bugs\n",
    "   * Easier to debug\n",
    "* ``.map_elements`` is slow for math\n",
    "* Aggregations are powerful. Play with them until they make sense\n",
    "\n",
    "\n",
    "Let's connect! \n",
    "\n",
    "See me at book signing tomorrow.\n",
    "\n"
   ]
  },
  {
   "cell_type": "code",
   "execution_count": null,
   "metadata": {
    "lines_to_next_cell": 2,
    "pycharm": {
     "name": "#%%\n"
    }
   },
   "outputs": [],
   "source": []
  },
  {
   "cell_type": "code",
   "execution_count": null,
   "metadata": {
    "lines_to_next_cell": 2,
    "pycharm": {
     "name": "#%%\n"
    }
   },
   "outputs": [],
   "source": []
  },
  {
   "cell_type": "code",
   "execution_count": null,
   "metadata": {
    "pycharm": {
     "name": "#%%\n"
    }
   },
   "outputs": [],
   "source": []
  }
 ],
 "metadata": {
  "jupytext": {
   "encoding": "# -*- coding: utf-8 -*-",
   "formats": "ipynb,py:light"
  },
  "kernelspec": {
   "display_name": "Python 3 (ipykernel)",
   "language": "python",
   "name": "python3"
  },
  "language_info": {
   "codemirror_mode": {
    "name": "ipython",
    "version": 3
   },
   "file_extension": ".py",
   "mimetype": "text/x-python",
   "name": "python",
   "nbconvert_exporter": "python",
   "pygments_lexer": "ipython3",
   "version": "3.12.5"
  }
 },
 "nbformat": 4,
 "nbformat_minor": 4
}
